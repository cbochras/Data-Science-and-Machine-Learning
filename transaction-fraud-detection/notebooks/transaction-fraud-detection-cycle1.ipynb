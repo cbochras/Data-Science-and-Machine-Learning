{
 "cells": [
  {
   "cell_type": "markdown",
   "metadata": {
    "heading_collapsed": true
   },
   "source": [
    "# i. Business Understanding"
   ]
  },
  {
   "cell_type": "markdown",
   "metadata": {
    "heading_collapsed": true,
    "hidden": true
   },
   "source": [
    "## i.i Blocker Fraud Company"
   ]
  },
  {
   "cell_type": "markdown",
   "metadata": {
    "hidden": true
   },
   "source": [
    "* The Blocker Fraud Company is a company specialized in detecting fraud in financial transactions made through mobile devices. The company has a service called “Blocker Fraud” with no guarantee of blocking fraudulent transactions.\n",
    "\n",
    "* And the business model of the company is of the Service type with the monetization made by the performance of the service provided, that is, the user pays a fixed fee on the success in detecting fraud in the customer's transactions."
   ]
  },
  {
   "cell_type": "markdown",
   "metadata": {
    "hidden": true
   },
   "source": [
    "### i.i.i Expansion Problem"
   ]
  },
  {
   "cell_type": "markdown",
   "metadata": {
    "hidden": true
   },
   "source": [
    "Blocker Fraud Company is expanding in Brazil and to acquire customers more quickly, it has adopted a very aggressive strategy. The strategy works as follows:\n",
    "1. The company will receive 25% of the value of each transaction that is truly detected as fraud.\n",
    "1. The company will receive 5% of the value of each transaction detected as fraud, but the transaction is truly legitimate.\n",
    "1. The company will return 100% of the value to the customer, for each transaction detected as legitimate, however the transaction is truly a fraud."
   ]
  },
  {
   "cell_type": "markdown",
   "metadata": {
    "heading_collapsed": true,
    "hidden": true
   },
   "source": [
    "## i.ii The Challenge"
   ]
  },
  {
   "cell_type": "markdown",
   "metadata": {
    "hidden": true
   },
   "source": [
    "You need to deliver to the CEO of Blocker Fraud Company a production model in which your access will be done via API, that is, customers will send their transactions via API so that your model classifies them as fraudulent or legitimate."
   ]
  },
  {
   "cell_type": "markdown",
   "metadata": {
    "hidden": true
   },
   "source": [
    "### i.ii.i Business Questions"
   ]
  },
  {
   "cell_type": "markdown",
   "metadata": {
    "hidden": true
   },
   "source": [
    "1. What is the model's Precision and Accuracy?\n",
    "1. How Reliable is the model in classifying transactions as legitimate or fraudulent?\n",
    "1. What is the Expected Billing by the Company if we classify 100% of transactions with the model?\n",
    "1. What is the Loss Expected by the Company in case of model failure?\n",
    "1. What is the Profit Expected by the Blocker Fraud Company when using the model?"
   ]
  },
  {
   "cell_type": "markdown",
   "metadata": {
    "heading_collapsed": true
   },
   "source": [
    "# 0.0 Imports and Helper Functions"
   ]
  },
  {
   "cell_type": "markdown",
   "metadata": {
    "hidden": true
   },
   "source": [
    "## 0.1 Imports"
   ]
  },
  {
   "cell_type": "code",
   "execution_count": 229,
   "metadata": {
    "ExecuteTime": {
     "end_time": "2021-01-11T18:47:33.819432Z",
     "start_time": "2021-01-11T18:47:33.805991Z"
    },
    "hidden": true
   },
   "outputs": [],
   "source": [
    "import joblib\n",
    "import warnings\n",
    "import inflection\n",
    "\n",
    "import numpy             as np\n",
    "import pandas            as pd\n",
    "import seaborn           as sns\n",
    "\n",
    "import matplotlib.pyplot as plt\n",
    "\n",
    "from scipy   import stats\n",
    "from boruta  import BorutaPy\n",
    "from category_encoders import OneHotEncoder\n",
    "\n",
    "from IPython.display      import Image\n",
    "from IPython.core.display import HTML \n",
    "\n",
    "from xgboost  import XGBClassifier\n",
    "from lightgbm import LGBMClassifier\n",
    "\n",
    "from sklearn.svm          import SVC\n",
    "from sklearn.dummy        import DummyClassifier\n",
    "from sklearn.ensemble     import RandomForestClassifier\n",
    "from sklearn.neighbors    import KNeighborsClassifier\n",
    "from sklearn.linear_model import LogisticRegression\n",
    "\n",
    "from sklearn.metrics         import balanced_accuracy_score, precision_score, classification_report\n",
    "from sklearn.metrics         import recall_score, f1_score, make_scorer, cohen_kappa_score\n",
    "from sklearn.preprocessing   import MinMaxScaler\n",
    "from sklearn.model_selection import GridSearchCV, train_test_split, StratifiedKFold"
   ]
  },
  {
   "cell_type": "markdown",
   "metadata": {
    "hidden": true
   },
   "source": [
    "## 0.2 Helper Functions"
   ]
  },
  {
   "cell_type": "code",
   "execution_count": 230,
   "metadata": {
    "ExecuteTime": {
     "end_time": "2021-01-11T18:47:34.604129Z",
     "start_time": "2021-01-11T18:47:34.599974Z"
    },
    "hidden": true
   },
   "outputs": [],
   "source": [
    "warnings.filterwarnings('ignore')\n",
    "\n",
    "seed = 42\n",
    "np.random.seed(seed)"
   ]
  },
  {
   "cell_type": "code",
   "execution_count": 231,
   "metadata": {
    "ExecuteTime": {
     "end_time": "2021-01-11T18:47:34.811059Z",
     "start_time": "2021-01-11T18:47:34.792000Z"
    },
    "hidden": true
   },
   "outputs": [
    {
     "name": "stdout",
     "output_type": "stream",
     "text": [
      "Populating the interactive namespace from numpy and matplotlib\n"
     ]
    },
    {
     "data": {
      "text/html": [
       "<style>.container { width:100% !important; }</style>"
      ],
      "text/plain": [
       "<IPython.core.display.HTML object>"
      ]
     },
     "metadata": {},
     "output_type": "display_data"
    }
   ],
   "source": [
    "def jupyter_settings():\n",
    "    %matplotlib inline\n",
    "    %pylab inline\n",
    "    \n",
    "    sns.set(font_scale=1.6)\n",
    "    \n",
    "    plt.style.use('seaborn-darkgrid')\n",
    "    plt.rcParams['figure.figsize'] = [25, 12]\n",
    "    plt.rcParams['font.size'] = 16\n",
    "    \n",
    "    display( HTML('<style>.container { width:100% !important; }</style>'))\n",
    "    pd.options.display.max_columns = None\n",
    "    pd.options.display.max_rows = None\n",
    "    pd.set_option('display.expand_frame_repr', False)\n",
    "    \n",
    "jupyter_settings()"
   ]
  },
  {
   "cell_type": "code",
   "execution_count": 232,
   "metadata": {
    "ExecuteTime": {
     "end_time": "2021-01-11T18:47:35.035622Z",
     "start_time": "2021-01-11T18:47:35.024369Z"
    },
    "hidden": true
   },
   "outputs": [],
   "source": [
    "def ml_scores(model_name, y_true, y_pred):\n",
    "    \n",
    "    accuracy = balanced_accuracy_score(y_true, y_pred)\n",
    "    precision = precision_score(y_true, y_pred)\n",
    "    recall = recall_score(y_true, y_pred)\n",
    "    f1 = f1_score(y_true, y_pred)\n",
    "    kappa = cohen_kappa_score(y_true, y_pred)\n",
    "    \n",
    "    return pd.DataFrame({'Balanced Accuracy': np.round(accuracy, 3), \n",
    "                         'Precision': np.round(precision, 3), \n",
    "                         'Recall': np.round(recall, 3),\n",
    "                         'F1': np.round(f1, 3),\n",
    "                         'Kappa': np.round(kappa, 3)}, \n",
    "                        index=[model_name])"
   ]
  },
  {
   "cell_type": "code",
   "execution_count": 233,
   "metadata": {
    "ExecuteTime": {
     "end_time": "2021-01-11T18:47:35.233972Z",
     "start_time": "2021-01-11T18:47:35.222569Z"
    },
    "hidden": true
   },
   "outputs": [],
   "source": [
    "def calcCramerV(x, y):\n",
    "    cm = pd.crosstab(x, y).values\n",
    "    n = cm.sum()\n",
    "    r, k = cm.shape\n",
    "    \n",
    "    chi2 = stats.chi2_contingency(cm)[0]\n",
    "    chi2corr = max(0, chi2 - (k-1)*(r-1)/(n-1))\n",
    "    \n",
    "    kcorr = k - (k-1)**2/(n-1)\n",
    "    rcorr = r - (r-1)**2/(n-1)\n",
    "    \n",
    "    return np.sqrt((chi2corr/n) / (min(kcorr-1, rcorr-1)))"
   ]
  },
  {
   "cell_type": "code",
   "execution_count": 234,
   "metadata": {
    "ExecuteTime": {
     "end_time": "2021-01-11T18:47:35.431569Z",
     "start_time": "2021-01-11T18:47:35.406476Z"
    },
    "hidden": true
   },
   "outputs": [],
   "source": [
    "def ml_cv_results(model_name, model, x, y, verbose=1):\n",
    "    \n",
    "    '''initial'''\n",
    "    balanced_accuracies = []\n",
    "    precisions = []\n",
    "    recalls = []\n",
    "    f1s = []\n",
    "    kappas = []\n",
    "    \n",
    "    mm = MinMaxScaler()\n",
    "    \n",
    "    x_ = x.to_numpy()\n",
    "    y_ = y.to_numpy()\n",
    "    \n",
    "    count = 0\n",
    "    \n",
    "    '''cross-validation'''\n",
    "    skf = StratifiedKFold(n_splits=5, shuffle=True)\n",
    "    \n",
    "    for index_train, index_test in skf.split(x_, y_):\n",
    "        ## Showing the Fold\n",
    "        if verbose > 0:\n",
    "            count += 1\n",
    "            print('Fold K=%i' % (count))\n",
    "    \n",
    "        ## selecting train and test\n",
    "        x_train, x_test = x.iloc[index_train], x.iloc[index_test]\n",
    "        y_train, y_test = y.iloc[index_train], y.iloc[index_test]\n",
    "        \n",
    "        ## applying the scale\n",
    "        x_train = mm.fit_transform(x_train)\n",
    "        x_test = mm.transform(x_test)\n",
    "    \n",
    "        ## training the model\n",
    "        model.fit(x_train, y_train)\n",
    "        y_pred = model.predict(x_test)\n",
    "\n",
    "        ## saving the metrics\n",
    "        balanced_accuracies.append(balanced_accuracy_score(y_test, y_pred))\n",
    "        precisions.append(precision_score(y_test, y_pred))\n",
    "        recalls.append(recall_score(y_test, y_pred))\n",
    "        f1s.append(f1_score(y_test, y_pred))\n",
    "        kappas.append(cohen_kappa_score(y_test, y_pred))\n",
    "        \n",
    "        \n",
    "    '''results'''    \n",
    "    accuracy_mean, accuracy_std = np.round(np.mean(balanced_accuracies), 3), np.round(np.std(balanced_accuracies), 3)\n",
    "    precision_mean, precision_std = np.round(np.mean(precisions), 3), np.round(np.std(precisions), 3)\n",
    "    recall_mean, recall_std = np.round(np.mean(recalls), 3), np.round(np.std(recalls), 3)\n",
    "    f1_mean, f1_std = np.round(np.mean(f1s), 3), np.round(np.std(f1s), 3)\n",
    "    kappa_mean, kappa_std = np.round(np.mean(kappas), 3), np.round(np.std(kappas), 3)\n",
    "    \n",
    "    ## saving the results in a dataframe\n",
    "    return pd.DataFrame({\"Balanced Accuracy\": \"{} +/- {}\".format(accuracy_mean, accuracy_std),\n",
    "                        \"Precision\": \"{} +/- {}\".format(precision_mean, precision_std),\n",
    "                        \"Recall\": \"{} +/- {}\".format(recall_mean, recall_std),\n",
    "                        \"F1\": \"{} +/- {}\".format(f1_mean, f1_std),\n",
    "                        \"Kappa\": \"{} +/- {}\".format(kappa_mean, kappa_std)},\n",
    "                       index=[model_name])"
   ]
  },
  {
   "cell_type": "markdown",
   "metadata": {
    "heading_collapsed": true
   },
   "source": [
    "# 1.0 Data Description"
   ]
  },
  {
   "cell_type": "markdown",
   "metadata": {
    "hidden": true
   },
   "source": [
    "## 1.1 Loading Data"
   ]
  },
  {
   "cell_type": "code",
   "execution_count": 235,
   "metadata": {
    "ExecuteTime": {
     "end_time": "2021-01-11T18:47:37.450936Z",
     "start_time": "2021-01-11T18:47:36.044298Z"
    },
    "hidden": true
   },
   "outputs": [],
   "source": [
    "df1 = pd.read_csv('../database/fraud_0.1origbase.csv')"
   ]
  },
  {
   "cell_type": "code",
   "execution_count": 236,
   "metadata": {
    "ExecuteTime": {
     "end_time": "2021-01-11T18:47:37.474072Z",
     "start_time": "2021-01-11T18:47:37.453989Z"
    },
    "hidden": true
   },
   "outputs": [
    {
     "data": {
      "text/html": [
       "<div>\n",
       "<style scoped>\n",
       "    .dataframe tbody tr th:only-of-type {\n",
       "        vertical-align: middle;\n",
       "    }\n",
       "\n",
       "    .dataframe tbody tr th {\n",
       "        vertical-align: top;\n",
       "    }\n",
       "\n",
       "    .dataframe thead th {\n",
       "        text-align: right;\n",
       "    }\n",
       "</style>\n",
       "<table border=\"1\" class=\"dataframe\">\n",
       "  <thead>\n",
       "    <tr style=\"text-align: right;\">\n",
       "      <th></th>\n",
       "      <th>step</th>\n",
       "      <th>type</th>\n",
       "      <th>amount</th>\n",
       "      <th>nameOrig</th>\n",
       "      <th>oldbalanceOrg</th>\n",
       "      <th>newbalanceOrig</th>\n",
       "      <th>nameDest</th>\n",
       "      <th>oldbalanceDest</th>\n",
       "      <th>newbalanceDest</th>\n",
       "      <th>isFraud</th>\n",
       "      <th>isFlaggedFraud</th>\n",
       "    </tr>\n",
       "  </thead>\n",
       "  <tbody>\n",
       "    <tr>\n",
       "      <th>0</th>\n",
       "      <td>283</td>\n",
       "      <td>CASH_IN</td>\n",
       "      <td>210329.84</td>\n",
       "      <td>C1159819632</td>\n",
       "      <td>3778062.79</td>\n",
       "      <td>3988392.64</td>\n",
       "      <td>C1218876138</td>\n",
       "      <td>1519266.60</td>\n",
       "      <td>1308936.76</td>\n",
       "      <td>0</td>\n",
       "      <td>0</td>\n",
       "    </tr>\n",
       "    <tr>\n",
       "      <th>1</th>\n",
       "      <td>132</td>\n",
       "      <td>CASH_OUT</td>\n",
       "      <td>215489.19</td>\n",
       "      <td>C1372369468</td>\n",
       "      <td>21518.00</td>\n",
       "      <td>0.00</td>\n",
       "      <td>C467105520</td>\n",
       "      <td>6345756.55</td>\n",
       "      <td>6794954.89</td>\n",
       "      <td>0</td>\n",
       "      <td>0</td>\n",
       "    </tr>\n",
       "    <tr>\n",
       "      <th>2</th>\n",
       "      <td>355</td>\n",
       "      <td>DEBIT</td>\n",
       "      <td>4431.05</td>\n",
       "      <td>C1059822709</td>\n",
       "      <td>20674.00</td>\n",
       "      <td>16242.95</td>\n",
       "      <td>C76588246</td>\n",
       "      <td>80876.56</td>\n",
       "      <td>85307.61</td>\n",
       "      <td>0</td>\n",
       "      <td>0</td>\n",
       "    </tr>\n",
       "    <tr>\n",
       "      <th>3</th>\n",
       "      <td>135</td>\n",
       "      <td>CASH_OUT</td>\n",
       "      <td>214026.20</td>\n",
       "      <td>C1464960643</td>\n",
       "      <td>46909.73</td>\n",
       "      <td>0.00</td>\n",
       "      <td>C1059379810</td>\n",
       "      <td>13467450.36</td>\n",
       "      <td>13681476.56</td>\n",
       "      <td>0</td>\n",
       "      <td>0</td>\n",
       "    </tr>\n",
       "    <tr>\n",
       "      <th>4</th>\n",
       "      <td>381</td>\n",
       "      <td>CASH_OUT</td>\n",
       "      <td>8858.45</td>\n",
       "      <td>C831134427</td>\n",
       "      <td>0.00</td>\n",
       "      <td>0.00</td>\n",
       "      <td>C579876929</td>\n",
       "      <td>1667180.58</td>\n",
       "      <td>1676039.03</td>\n",
       "      <td>0</td>\n",
       "      <td>0</td>\n",
       "    </tr>\n",
       "  </tbody>\n",
       "</table>\n",
       "</div>"
      ],
      "text/plain": [
       "   step      type     amount     nameOrig  oldbalanceOrg  newbalanceOrig     nameDest  oldbalanceDest  newbalanceDest  isFraud  isFlaggedFraud\n",
       "0   283   CASH_IN  210329.84  C1159819632     3778062.79      3988392.64  C1218876138      1519266.60      1308936.76        0               0\n",
       "1   132  CASH_OUT  215489.19  C1372369468       21518.00            0.00   C467105520      6345756.55      6794954.89        0               0\n",
       "2   355     DEBIT    4431.05  C1059822709       20674.00        16242.95    C76588246        80876.56        85307.61        0               0\n",
       "3   135  CASH_OUT  214026.20  C1464960643       46909.73            0.00  C1059379810     13467450.36     13681476.56        0               0\n",
       "4   381  CASH_OUT    8858.45   C831134427           0.00            0.00   C579876929      1667180.58      1676039.03        0               0"
      ]
     },
     "execution_count": 236,
     "metadata": {},
     "output_type": "execute_result"
    }
   ],
   "source": [
    "df1.head()"
   ]
  },
  {
   "cell_type": "code",
   "execution_count": 237,
   "metadata": {
    "ExecuteTime": {
     "end_time": "2021-01-11T18:47:37.491715Z",
     "start_time": "2021-01-11T18:47:37.476639Z"
    },
    "hidden": true
   },
   "outputs": [
    {
     "data": {
      "text/html": [
       "<div>\n",
       "<style scoped>\n",
       "    .dataframe tbody tr th:only-of-type {\n",
       "        vertical-align: middle;\n",
       "    }\n",
       "\n",
       "    .dataframe tbody tr th {\n",
       "        vertical-align: top;\n",
       "    }\n",
       "\n",
       "    .dataframe thead th {\n",
       "        text-align: right;\n",
       "    }\n",
       "</style>\n",
       "<table border=\"1\" class=\"dataframe\">\n",
       "  <thead>\n",
       "    <tr style=\"text-align: right;\">\n",
       "      <th></th>\n",
       "      <th>step</th>\n",
       "      <th>type</th>\n",
       "      <th>amount</th>\n",
       "      <th>nameOrig</th>\n",
       "      <th>oldbalanceOrg</th>\n",
       "      <th>newbalanceOrig</th>\n",
       "      <th>nameDest</th>\n",
       "      <th>oldbalanceDest</th>\n",
       "      <th>newbalanceDest</th>\n",
       "      <th>isFraud</th>\n",
       "      <th>isFlaggedFraud</th>\n",
       "    </tr>\n",
       "  </thead>\n",
       "  <tbody>\n",
       "    <tr>\n",
       "      <th>636257</th>\n",
       "      <td>351</td>\n",
       "      <td>CASH_OUT</td>\n",
       "      <td>28761.10</td>\n",
       "      <td>C742050657</td>\n",
       "      <td>0.0</td>\n",
       "      <td>0.00</td>\n",
       "      <td>C568407561</td>\n",
       "      <td>328534.52</td>\n",
       "      <td>357295.62</td>\n",
       "      <td>0</td>\n",
       "      <td>0</td>\n",
       "    </tr>\n",
       "    <tr>\n",
       "      <th>636258</th>\n",
       "      <td>184</td>\n",
       "      <td>CASH_OUT</td>\n",
       "      <td>167820.71</td>\n",
       "      <td>C561181412</td>\n",
       "      <td>62265.0</td>\n",
       "      <td>0.00</td>\n",
       "      <td>C1852953580</td>\n",
       "      <td>106429.48</td>\n",
       "      <td>274250.18</td>\n",
       "      <td>0</td>\n",
       "      <td>0</td>\n",
       "    </tr>\n",
       "    <tr>\n",
       "      <th>636259</th>\n",
       "      <td>35</td>\n",
       "      <td>PAYMENT</td>\n",
       "      <td>8898.12</td>\n",
       "      <td>C1773417333</td>\n",
       "      <td>30808.0</td>\n",
       "      <td>21909.88</td>\n",
       "      <td>M445701551</td>\n",
       "      <td>0.00</td>\n",
       "      <td>0.00</td>\n",
       "      <td>0</td>\n",
       "      <td>0</td>\n",
       "    </tr>\n",
       "    <tr>\n",
       "      <th>636260</th>\n",
       "      <td>277</td>\n",
       "      <td>CASH_OUT</td>\n",
       "      <td>176147.90</td>\n",
       "      <td>C1423233247</td>\n",
       "      <td>83669.0</td>\n",
       "      <td>0.00</td>\n",
       "      <td>C1328739120</td>\n",
       "      <td>0.00</td>\n",
       "      <td>176147.90</td>\n",
       "      <td>0</td>\n",
       "      <td>0</td>\n",
       "    </tr>\n",
       "    <tr>\n",
       "      <th>636261</th>\n",
       "      <td>304</td>\n",
       "      <td>CASH_OUT</td>\n",
       "      <td>95142.89</td>\n",
       "      <td>C874575079</td>\n",
       "      <td>0.0</td>\n",
       "      <td>0.00</td>\n",
       "      <td>C666451134</td>\n",
       "      <td>431380.07</td>\n",
       "      <td>526522.96</td>\n",
       "      <td>0</td>\n",
       "      <td>0</td>\n",
       "    </tr>\n",
       "  </tbody>\n",
       "</table>\n",
       "</div>"
      ],
      "text/plain": [
       "        step      type     amount     nameOrig  oldbalanceOrg  newbalanceOrig     nameDest  oldbalanceDest  newbalanceDest  isFraud  isFlaggedFraud\n",
       "636257   351  CASH_OUT   28761.10   C742050657            0.0            0.00   C568407561       328534.52       357295.62        0               0\n",
       "636258   184  CASH_OUT  167820.71   C561181412        62265.0            0.00  C1852953580       106429.48       274250.18        0               0\n",
       "636259    35   PAYMENT    8898.12  C1773417333        30808.0        21909.88   M445701551            0.00            0.00        0               0\n",
       "636260   277  CASH_OUT  176147.90  C1423233247        83669.0            0.00  C1328739120            0.00       176147.90        0               0\n",
       "636261   304  CASH_OUT   95142.89   C874575079            0.0            0.00   C666451134       431380.07       526522.96        0               0"
      ]
     },
     "execution_count": 237,
     "metadata": {},
     "output_type": "execute_result"
    }
   ],
   "source": [
    "df1.tail()"
   ]
  },
  {
   "cell_type": "markdown",
   "metadata": {
    "hidden": true
   },
   "source": [
    "## 1.2 Columns"
   ]
  },
  {
   "cell_type": "markdown",
   "metadata": {
    "hidden": true
   },
   "source": [
    "### 1.2.1 Column Descriptions"
   ]
  },
  {
   "cell_type": "markdown",
   "metadata": {
    "hidden": true
   },
   "source": [
    "**step:** maps a unit of time in the real world. In this case 1 step is 1 hour of time. Total steps 744 (30 days simulation).\n",
    "\n",
    "**type:** CASH-IN, CASH-OUT, DEBIT, PAYMENT and TRANSFER.\n",
    "\n",
    "**amount:** amount of the transaction in local currency.\n",
    "\n",
    "**nameOrig:** customer who started the transaction\n",
    "\n",
    "**oldbalanceOrg:** initial balance before the transaction\n",
    "\n",
    "**newbalanceOrig:** new balance after the transaction\n",
    "\n",
    "**nameDest:** customer who is the recipient of the transaction\n",
    "\n",
    "**oldbalanceDest:** initial balance recipient before the transaction. Note that there is not information for customers that start with M (Merchants).\n",
    "\n",
    "**newbalanceDest:** new balance recipient after the transaction. Note that there is not information for customers that start with M (Merchants).\n",
    "\n",
    "**isFraud:** This is the transactions made by the fraudulent agents inside the simulation. In this specific dataset the fraudulent behavior of the agents aims to profit by taking control or customers accounts and try to empty the funds by transferring to another account and then cashing out of the system.\n",
    "\n",
    "**isFlaggedFraud:** The business model aims to control massive transfers from one account to another and flags illegal attempts. An illegal attempt in this dataset is an attempt to transfer more than 200.000 in a single transaction."
   ]
  },
  {
   "cell_type": "markdown",
   "metadata": {
    "ExecuteTime": {
     "end_time": "2020-12-12T21:31:42.617142Z",
     "start_time": "2020-12-12T21:31:42.609502Z"
    },
    "hidden": true
   },
   "source": [
    "### 1.2.2 Column Rename"
   ]
  },
  {
   "cell_type": "code",
   "execution_count": 238,
   "metadata": {
    "ExecuteTime": {
     "end_time": "2021-01-11T18:47:37.498900Z",
     "start_time": "2021-01-11T18:47:37.494994Z"
    },
    "hidden": true
   },
   "outputs": [],
   "source": [
    "cols_old = df1.columns.tolist()\n",
    "\n",
    "snakecase = lambda x: inflection.underscore(x)\n",
    "cols_new = list(map(snakecase, cols_old))\n",
    "\n",
    "df1.columns = cols_new"
   ]
  },
  {
   "cell_type": "code",
   "execution_count": 239,
   "metadata": {
    "ExecuteTime": {
     "end_time": "2021-01-11T18:47:37.505663Z",
     "start_time": "2021-01-11T18:47:37.501235Z"
    },
    "hidden": true
   },
   "outputs": [
    {
     "data": {
      "text/plain": [
       "Index(['step', 'type', 'amount', 'name_orig', 'oldbalance_org',\n",
       "       'newbalance_orig', 'name_dest', 'oldbalance_dest', 'newbalance_dest',\n",
       "       'is_fraud', 'is_flagged_fraud'],\n",
       "      dtype='object')"
      ]
     },
     "execution_count": 239,
     "metadata": {},
     "output_type": "execute_result"
    }
   ],
   "source": [
    "df1.columns"
   ]
  },
  {
   "cell_type": "markdown",
   "metadata": {
    "hidden": true
   },
   "source": [
    "## 1.3 Data Dimension"
   ]
  },
  {
   "cell_type": "code",
   "execution_count": 240,
   "metadata": {
    "ExecuteTime": {
     "end_time": "2021-01-11T18:47:37.851622Z",
     "start_time": "2021-01-11T18:47:37.847980Z"
    },
    "hidden": true
   },
   "outputs": [
    {
     "name": "stdout",
     "output_type": "stream",
     "text": [
      "Number of Rows: 636262\n",
      "Number of Cols: 11\n"
     ]
    }
   ],
   "source": [
    "print('Number of Rows: {}'.format(df1.shape[0]))\n",
    "print('Number of Cols: {}'.format(df1.shape[1]))"
   ]
  },
  {
   "cell_type": "markdown",
   "metadata": {
    "hidden": true
   },
   "source": [
    "## 1.4 Data Types and Structure"
   ]
  },
  {
   "cell_type": "code",
   "execution_count": 241,
   "metadata": {
    "ExecuteTime": {
     "end_time": "2021-01-11T18:47:38.334664Z",
     "start_time": "2021-01-11T18:47:38.201896Z"
    },
    "hidden": true
   },
   "outputs": [
    {
     "name": "stdout",
     "output_type": "stream",
     "text": [
      "<class 'pandas.core.frame.DataFrame'>\n",
      "RangeIndex: 636262 entries, 0 to 636261\n",
      "Data columns (total 11 columns):\n",
      " #   Column            Non-Null Count   Dtype  \n",
      "---  ------            --------------   -----  \n",
      " 0   step              636262 non-null  int64  \n",
      " 1   type              636262 non-null  object \n",
      " 2   amount            636262 non-null  float64\n",
      " 3   name_orig         636262 non-null  object \n",
      " 4   oldbalance_org    636262 non-null  float64\n",
      " 5   newbalance_orig   636262 non-null  float64\n",
      " 6   name_dest         636262 non-null  object \n",
      " 7   oldbalance_dest   636262 non-null  float64\n",
      " 8   newbalance_dest   636262 non-null  float64\n",
      " 9   is_fraud          636262 non-null  int64  \n",
      " 10  is_flagged_fraud  636262 non-null  int64  \n",
      "dtypes: float64(5), int64(3), object(3)\n",
      "memory usage: 53.4+ MB\n"
     ]
    }
   ],
   "source": [
    "df1.info()"
   ]
  },
  {
   "cell_type": "markdown",
   "metadata": {
    "hidden": true
   },
   "source": [
    "## 1.5 Check NA"
   ]
  },
  {
   "cell_type": "code",
   "execution_count": 242,
   "metadata": {
    "ExecuteTime": {
     "end_time": "2021-01-11T18:47:38.655459Z",
     "start_time": "2021-01-11T18:47:38.542451Z"
    },
    "hidden": true
   },
   "outputs": [
    {
     "data": {
      "text/plain": [
       "step                0.0\n",
       "type                0.0\n",
       "amount              0.0\n",
       "name_orig           0.0\n",
       "oldbalance_org      0.0\n",
       "newbalance_orig     0.0\n",
       "name_dest           0.0\n",
       "oldbalance_dest     0.0\n",
       "newbalance_dest     0.0\n",
       "is_fraud            0.0\n",
       "is_flagged_fraud    0.0\n",
       "dtype: float64"
      ]
     },
     "execution_count": 242,
     "metadata": {},
     "output_type": "execute_result"
    }
   ],
   "source": [
    "df1.isna().mean()"
   ]
  },
  {
   "cell_type": "markdown",
   "metadata": {
    "hidden": true
   },
   "source": [
    "## 1.6 Fill Out NA"
   ]
  },
  {
   "cell_type": "markdown",
   "metadata": {
    "hidden": true
   },
   "source": [
    "There's no NaN values to fill."
   ]
  },
  {
   "cell_type": "markdown",
   "metadata": {
    "hidden": true
   },
   "source": [
    "## 1.7 Change Data Type"
   ]
  },
  {
   "cell_type": "markdown",
   "metadata": {
    "hidden": true
   },
   "source": [
    " I will change the values 0 and 1 to 'yes' and 'no'. It'll help on the data description and analysis sections."
   ]
  },
  {
   "cell_type": "code",
   "execution_count": 243,
   "metadata": {
    "ExecuteTime": {
     "end_time": "2021-01-11T18:47:39.517461Z",
     "start_time": "2021-01-11T18:47:39.450119Z"
    },
    "hidden": true
   },
   "outputs": [],
   "source": [
    "df1['is_fraud'] = df1['is_fraud'].map({1: 'yes', 0: 'no'})\n",
    "df1['is_flagged_fraud'] = df1['is_flagged_fraud'].map({1: 'yes', 0: 'no'})"
   ]
  },
  {
   "cell_type": "markdown",
   "metadata": {
    "hidden": true
   },
   "source": [
    "## 1.8 Description Statistics"
   ]
  },
  {
   "cell_type": "code",
   "execution_count": 244,
   "metadata": {
    "ExecuteTime": {
     "end_time": "2021-01-11T18:47:39.985703Z",
     "start_time": "2021-01-11T18:47:39.840317Z"
    },
    "hidden": true
   },
   "outputs": [],
   "source": [
    "num_attributes = df1.select_dtypes(exclude='object')\n",
    "cat_attributes = df1.select_dtypes(include='object')"
   ]
  },
  {
   "cell_type": "markdown",
   "metadata": {
    "hidden": true
   },
   "source": [
    "### 1.8.1 Numerical Attributes"
   ]
  },
  {
   "cell_type": "code",
   "execution_count": 245,
   "metadata": {
    "ExecuteTime": {
     "end_time": "2021-01-11T18:47:40.716577Z",
     "start_time": "2021-01-11T18:47:40.217657Z"
    },
    "hidden": true
   },
   "outputs": [
    {
     "data": {
      "text/html": [
       "<div>\n",
       "<style scoped>\n",
       "    .dataframe tbody tr th:only-of-type {\n",
       "        vertical-align: middle;\n",
       "    }\n",
       "\n",
       "    .dataframe tbody tr th {\n",
       "        vertical-align: top;\n",
       "    }\n",
       "\n",
       "    .dataframe thead th {\n",
       "        text-align: right;\n",
       "    }\n",
       "</style>\n",
       "<table border=\"1\" class=\"dataframe\">\n",
       "  <thead>\n",
       "    <tr style=\"text-align: right;\">\n",
       "      <th></th>\n",
       "      <th>count</th>\n",
       "      <th>mean</th>\n",
       "      <th>std</th>\n",
       "      <th>min</th>\n",
       "      <th>25%</th>\n",
       "      <th>50%</th>\n",
       "      <th>75%</th>\n",
       "      <th>max</th>\n",
       "      <th>range</th>\n",
       "      <th>variation coefficient</th>\n",
       "      <th>skew</th>\n",
       "      <th>kurtosis</th>\n",
       "    </tr>\n",
       "  </thead>\n",
       "  <tbody>\n",
       "    <tr>\n",
       "      <th>step</th>\n",
       "      <td>636262.0</td>\n",
       "      <td>2.429319e+02</td>\n",
       "      <td>1.423309e+02</td>\n",
       "      <td>1.0</td>\n",
       "      <td>155.000</td>\n",
       "      <td>238.000</td>\n",
       "      <td>3.340000e+02</td>\n",
       "      <td>7.420000e+02</td>\n",
       "      <td>7.410000e+02</td>\n",
       "      <td>0.585888</td>\n",
       "      <td>0.375052</td>\n",
       "      <td>0.324437</td>\n",
       "    </tr>\n",
       "    <tr>\n",
       "      <th>amount</th>\n",
       "      <td>636262.0</td>\n",
       "      <td>1.800585e+05</td>\n",
       "      <td>6.069714e+05</td>\n",
       "      <td>0.0</td>\n",
       "      <td>13407.425</td>\n",
       "      <td>74815.770</td>\n",
       "      <td>2.084988e+05</td>\n",
       "      <td>5.722962e+07</td>\n",
       "      <td>5.722962e+07</td>\n",
       "      <td>3.370967</td>\n",
       "      <td>29.577107</td>\n",
       "      <td>1546.661043</td>\n",
       "    </tr>\n",
       "    <tr>\n",
       "      <th>oldbalance_org</th>\n",
       "      <td>636262.0</td>\n",
       "      <td>8.317937e+05</td>\n",
       "      <td>2.885636e+06</td>\n",
       "      <td>0.0</td>\n",
       "      <td>0.000</td>\n",
       "      <td>14239.000</td>\n",
       "      <td>1.072998e+05</td>\n",
       "      <td>4.368662e+07</td>\n",
       "      <td>4.368662e+07</td>\n",
       "      <td>3.469173</td>\n",
       "      <td>5.243428</td>\n",
       "      <td>32.766036</td>\n",
       "    </tr>\n",
       "    <tr>\n",
       "      <th>newbalance_orig</th>\n",
       "      <td>636262.0</td>\n",
       "      <td>8.528354e+05</td>\n",
       "      <td>2.921296e+06</td>\n",
       "      <td>0.0</td>\n",
       "      <td>0.000</td>\n",
       "      <td>0.000</td>\n",
       "      <td>1.435652e+05</td>\n",
       "      <td>4.367380e+07</td>\n",
       "      <td>4.367380e+07</td>\n",
       "      <td>3.425393</td>\n",
       "      <td>5.173614</td>\n",
       "      <td>31.932547</td>\n",
       "    </tr>\n",
       "    <tr>\n",
       "      <th>oldbalance_dest</th>\n",
       "      <td>636262.0</td>\n",
       "      <td>1.096212e+06</td>\n",
       "      <td>3.375389e+06</td>\n",
       "      <td>0.0</td>\n",
       "      <td>0.000</td>\n",
       "      <td>131539.745</td>\n",
       "      <td>9.384820e+05</td>\n",
       "      <td>3.551855e+08</td>\n",
       "      <td>3.551855e+08</td>\n",
       "      <td>3.079138</td>\n",
       "      <td>20.622388</td>\n",
       "      <td>1074.335293</td>\n",
       "    </tr>\n",
       "    <tr>\n",
       "      <th>newbalance_dest</th>\n",
       "      <td>636262.0</td>\n",
       "      <td>1.221809e+06</td>\n",
       "      <td>3.656213e+06</td>\n",
       "      <td>0.0</td>\n",
       "      <td>0.000</td>\n",
       "      <td>214712.725</td>\n",
       "      <td>1.109230e+06</td>\n",
       "      <td>3.555534e+08</td>\n",
       "      <td>3.555534e+08</td>\n",
       "      <td>2.992460</td>\n",
       "      <td>19.623903</td>\n",
       "      <td>928.694204</td>\n",
       "    </tr>\n",
       "  </tbody>\n",
       "</table>\n",
       "</div>"
      ],
      "text/plain": [
       "                    count          mean           std  min        25%         50%           75%           max         range  variation coefficient       skew     kurtosis\n",
       "step             636262.0  2.429319e+02  1.423309e+02  1.0    155.000     238.000  3.340000e+02  7.420000e+02  7.410000e+02               0.585888   0.375052     0.324437\n",
       "amount           636262.0  1.800585e+05  6.069714e+05  0.0  13407.425   74815.770  2.084988e+05  5.722962e+07  5.722962e+07               3.370967  29.577107  1546.661043\n",
       "oldbalance_org   636262.0  8.317937e+05  2.885636e+06  0.0      0.000   14239.000  1.072998e+05  4.368662e+07  4.368662e+07               3.469173   5.243428    32.766036\n",
       "newbalance_orig  636262.0  8.528354e+05  2.921296e+06  0.0      0.000       0.000  1.435652e+05  4.367380e+07  4.367380e+07               3.425393   5.173614    31.932547\n",
       "oldbalance_dest  636262.0  1.096212e+06  3.375389e+06  0.0      0.000  131539.745  9.384820e+05  3.551855e+08  3.551855e+08               3.079138  20.622388  1074.335293\n",
       "newbalance_dest  636262.0  1.221809e+06  3.656213e+06  0.0      0.000  214712.725  1.109230e+06  3.555534e+08  3.555534e+08               2.992460  19.623903   928.694204"
      ]
     },
     "execution_count": 245,
     "metadata": {},
     "output_type": "execute_result"
    }
   ],
   "source": [
    "describe = num_attributes.describe().T\n",
    "\n",
    "describe['range'] = (num_attributes.max() - num_attributes.min()).tolist()\n",
    "describe['variation coefficient'] = (num_attributes.std() / num_attributes.mean()).tolist()\n",
    "describe['skew'] = num_attributes.skew().tolist()\n",
    "describe['kurtosis'] = num_attributes.kurtosis().tolist()\n",
    "\n",
    "describe"
   ]
  },
  {
   "cell_type": "markdown",
   "metadata": {
    "hidden": true
   },
   "source": [
    "* All the data has a coeficient of variation greater than 25%, therefore they aren't homogeneous.\n",
    "\n",
    "* The step variable starts from 1 hour to 742 hour (30 days).\n",
    "\n",
    "* Some variables are higher shap and right skewed.\n",
    "\n",
    "* 50% of the newbalance_orig is 0. Maybe there are some transfers that don't go to the destination.\n",
    "\n",
    "* The skew is higher positive, therefore the values may be in less values."
   ]
  },
  {
   "cell_type": "markdown",
   "metadata": {
    "hidden": true
   },
   "source": [
    "### 1.8.2 Categorical Attributes"
   ]
  },
  {
   "cell_type": "code",
   "execution_count": 246,
   "metadata": {
    "ExecuteTime": {
     "end_time": "2021-01-11T18:47:42.821513Z",
     "start_time": "2021-01-11T18:47:40.809829Z"
    },
    "hidden": true
   },
   "outputs": [
    {
     "data": {
      "text/html": [
       "<div>\n",
       "<style scoped>\n",
       "    .dataframe tbody tr th:only-of-type {\n",
       "        vertical-align: middle;\n",
       "    }\n",
       "\n",
       "    .dataframe tbody tr th {\n",
       "        vertical-align: top;\n",
       "    }\n",
       "\n",
       "    .dataframe thead th {\n",
       "        text-align: right;\n",
       "    }\n",
       "</style>\n",
       "<table border=\"1\" class=\"dataframe\">\n",
       "  <thead>\n",
       "    <tr style=\"text-align: right;\">\n",
       "      <th></th>\n",
       "      <th>type</th>\n",
       "      <th>name_orig</th>\n",
       "      <th>name_dest</th>\n",
       "      <th>is_fraud</th>\n",
       "      <th>is_flagged_fraud</th>\n",
       "    </tr>\n",
       "  </thead>\n",
       "  <tbody>\n",
       "    <tr>\n",
       "      <th>count</th>\n",
       "      <td>636262</td>\n",
       "      <td>636262</td>\n",
       "      <td>636262</td>\n",
       "      <td>636262</td>\n",
       "      <td>636262</td>\n",
       "    </tr>\n",
       "    <tr>\n",
       "      <th>unique</th>\n",
       "      <td>5</td>\n",
       "      <td>636171</td>\n",
       "      <td>457224</td>\n",
       "      <td>2</td>\n",
       "      <td>2</td>\n",
       "    </tr>\n",
       "    <tr>\n",
       "      <th>top</th>\n",
       "      <td>CASH_OUT</td>\n",
       "      <td>C241218843</td>\n",
       "      <td>C2083562754</td>\n",
       "      <td>no</td>\n",
       "      <td>no</td>\n",
       "    </tr>\n",
       "    <tr>\n",
       "      <th>freq</th>\n",
       "      <td>224216</td>\n",
       "      <td>2</td>\n",
       "      <td>14</td>\n",
       "      <td>635441</td>\n",
       "      <td>636260</td>\n",
       "    </tr>\n",
       "  </tbody>\n",
       "</table>\n",
       "</div>"
      ],
      "text/plain": [
       "            type   name_orig    name_dest is_fraud is_flagged_fraud\n",
       "count     636262      636262       636262   636262           636262\n",
       "unique         5      636171       457224        2                2\n",
       "top     CASH_OUT  C241218843  C2083562754       no               no\n",
       "freq      224216           2           14   635441           636260"
      ]
     },
     "execution_count": 246,
     "metadata": {},
     "output_type": "execute_result"
    }
   ],
   "source": [
    "cat_attributes.describe()"
   ]
  },
  {
   "cell_type": "markdown",
   "metadata": {
    "hidden": true
   },
   "source": [
    "* The majority type is cash_out with 2237500.\n",
    "\n",
    "* There's a lot of variability in name_orig, so it could be hard to use one hot encoding.\n",
    "\n",
    "* There's less name_orig than name_dest. There's more users sending than receiving, however use one hot encoding will not help.\n",
    "\n",
    "* There's more fraud than the flagged fraud, it shows that the current method can't recognize fraud efficiently."
   ]
  },
  {
   "cell_type": "markdown",
   "metadata": {
    "heading_collapsed": true
   },
   "source": [
    "# 2.0 Feature Engineering"
   ]
  },
  {
   "cell_type": "code",
   "execution_count": 247,
   "metadata": {
    "ExecuteTime": {
     "end_time": "2021-01-11T18:47:42.876765Z",
     "start_time": "2021-01-11T18:47:42.823469Z"
    },
    "hidden": true
   },
   "outputs": [],
   "source": [
    "df2 = df1.copy()"
   ]
  },
  {
   "cell_type": "markdown",
   "metadata": {
    "hidden": true
   },
   "source": [
    "## 2.1 Mind Map"
   ]
  },
  {
   "cell_type": "code",
   "execution_count": 248,
   "metadata": {
    "ExecuteTime": {
     "end_time": "2021-01-11T18:47:42.884372Z",
     "start_time": "2021-01-11T18:47:42.878669Z"
    },
    "hidden": true
   },
   "outputs": [
    {
     "data": {
      "image/png": "[encoded data removed]",
      "text/plain": [
       "<IPython.core.display.Image object>"
      ]
     },
     "execution_count": 248,
     "metadata": {},
     "output_type": "execute_result"
    }
   ],
   "source": [
    "Image('../images/Fraud-mindmap.png')"
   ]
  },
  {
   "cell_type": "markdown",
   "metadata": {
    "hidden": true
   },
   "source": [
    "## 2.2 Hypothesis Creation"
   ]
  },
  {
   "cell_type": "markdown",
   "metadata": {
    "hidden": true
   },
   "source": [
    "### 2.2.1 User"
   ]
  },
  {
   "cell_type": "markdown",
   "metadata": {
    "hidden": true
   },
   "source": [
    "* 90% of the twentyone-year-old users did a fraud transiction.\n",
    "\n",
    "* The majority fraud transiction occours for the same initial letter user.\n",
    "\n",
    "* The fraud amount is greater than 10.000.\n",
    "\n",
    "* The 60% of the age is greater than 30 year old."
   ]
  },
  {
   "cell_type": "markdown",
   "metadata": {
    "hidden": true
   },
   "source": [
    "### 2.2.2 Type"
   ]
  },
  {
   "cell_type": "markdown",
   "metadata": {
    "hidden": true
   },
   "source": [
    "* 60% of fraud transaction occours using cash-out-type method.\n",
    "\n",
    "* The majority transfers occours using tranfers-type method.\n",
    "\n",
    "* Values greater than 100.000 occours using transfers-type method.\n",
    "\n",
    "* Payment type occurs with values lower than 100.000"
   ]
  },
  {
   "cell_type": "markdown",
   "metadata": {
    "hidden": true
   },
   "source": [
    "### 2.2.3 Origin and Destiny Transactions"
   ]
  },
  {
   "cell_type": "markdown",
   "metadata": {
    "hidden": true
   },
   "source": [
    "* 60% of the difference between origin destiny transactions is equal 0 for frauds.\n",
    "\n",
    "* Origin values are greater than destiny values for fraud transaction."
   ]
  },
  {
   "cell_type": "markdown",
   "metadata": {
    "hidden": true
   },
   "source": [
    "### 2.2.4 Time"
   ]
  },
  {
   "cell_type": "markdown",
   "metadata": {
    "hidden": true
   },
   "source": [
    "* Fraud transactions occours at least in 3 days.\n",
    "\n",
    "* 40% of the cash-out transactions occours less than 1 day.\n",
    "\n",
    "* 60% of the transaction less than 100.000 occours at least 10 days.\n",
    "\n",
    "* The transactions greater than 10.000 occours at most in 2 weeks. "
   ]
  },
  {
   "cell_type": "markdown",
   "metadata": {
    "hidden": true
   },
   "source": [
    "## 2.3 Hipothesys List"
   ]
  },
  {
   "cell_type": "markdown",
   "metadata": {
    "hidden": true
   },
   "source": [
    "1. The majority fraud transiction occours for the same initial letter user.\n",
    "\n",
    "1. All the fraud amount is greater than 10.000.\n",
    "\n",
    "1. 60% of fraud transaction occours using cash-out-type method.\n",
    "\n",
    "1. The majority transfers occours using tranfers-type method.\n",
    "\n",
    "1. Fraud transactions occours at least in 3 days."
   ]
  },
  {
   "cell_type": "markdown",
   "metadata": {
    "hidden": true
   },
   "source": [
    "## 2.4 Feature Engineering"
   ]
  },
  {
   "cell_type": "code",
   "execution_count": 249,
   "metadata": {
    "ExecuteTime": {
     "end_time": "2021-01-11T18:47:44.922596Z",
     "start_time": "2021-01-11T18:47:43.999043Z"
    },
    "hidden": true
   },
   "outputs": [],
   "source": [
    "# step\n",
    "df2['step_days'] = df2['step'].apply(lambda i: i/24)\n",
    "df2['step_weeks'] = df2['step'].apply(lambda i: i/(24*7))\n",
    "\n",
    "# difference between initial balance before the transaction and new balance after the transaction\n",
    "df2['diff_new_old_balance'] = df2['newbalance_orig'] - df2['oldbalance_org']\n",
    "\n",
    "# difference between initial balance recipient before the transaction and new balance recipient after the transaction.\n",
    "df2['diff_new_old_destiny'] = df2['newbalance_dest'] - df2['oldbalance_dest']\n",
    "\n",
    "# name orig and name dest\n",
    "df2['name_orig'] = df2['name_orig'].apply(lambda i: i[0])\n",
    "df2['name_dest'] = df2['name_dest'].apply(lambda i: i[0])"
   ]
  },
  {
   "cell_type": "markdown",
   "metadata": {
    "heading_collapsed": true
   },
   "source": [
    "# 3.0 Selecting Columns"
   ]
  },
  {
   "cell_type": "code",
   "execution_count": 250,
   "metadata": {
    "ExecuteTime": {
     "end_time": "2021-01-11T18:47:44.957038Z",
     "start_time": "2021-01-11T18:47:44.924834Z"
    },
    "hidden": true
   },
   "outputs": [],
   "source": [
    "df3 = df2.copy()"
   ]
  },
  {
   "cell_type": "markdown",
   "metadata": {
    "hidden": true
   },
   "source": [
    "## 3.1 Selecting Columns"
   ]
  },
  {
   "cell_type": "markdown",
   "metadata": {
    "hidden": true
   },
   "source": [
    "I'll use all the columns for data analysis"
   ]
  },
  {
   "cell_type": "markdown",
   "metadata": {
    "hidden": true
   },
   "source": [
    "## 3.2 Selecting Lines"
   ]
  },
  {
   "cell_type": "markdown",
   "metadata": {
    "hidden": true
   },
   "source": [
    "I'll use all the lines."
   ]
  },
  {
   "cell_type": "markdown",
   "metadata": {
    "heading_collapsed": true
   },
   "source": [
    "# 4.0 Exploratory Data Analisys"
   ]
  },
  {
   "cell_type": "code",
   "execution_count": 251,
   "metadata": {
    "ExecuteTime": {
     "end_time": "2021-01-11T18:47:45.536329Z",
     "start_time": "2021-01-11T18:47:45.479614Z"
    },
    "hidden": true
   },
   "outputs": [],
   "source": [
    "df4 = df3.copy()"
   ]
  },
  {
   "cell_type": "markdown",
   "metadata": {
    "hidden": true
   },
   "source": [
    "## 4.1 Univariate Analysis"
   ]
  },
  {
   "cell_type": "markdown",
   "metadata": {
    "hidden": true
   },
   "source": [
    "### 4.1.1 Response Variable"
   ]
  },
  {
   "cell_type": "code",
   "execution_count": 252,
   "metadata": {
    "ExecuteTime": {
     "end_time": "2021-01-11T18:47:46.652434Z",
     "start_time": "2021-01-11T18:47:46.010096Z"
    },
    "hidden": true
   },
   "outputs": [
    {
     "data": {
      "image/png": "[encoded data removed]",
      "text/plain": [
       "<Figure size 1800x864 with 1 Axes>"
      ]
     },
     "metadata": {},
     "output_type": "display_data"
    }
   ],
   "source": [
    "ax = sns.countplot(y='is_fraud', data=df4);\n",
    "\n",
    "total = df4['is_fraud'].size\n",
    "for p in ax.patches:\n",
    "        percentage = ' {:.1f}%'.format(100 * p.get_width()/total)\n",
    "        x = p.get_x() + p.get_width() + 0.02\n",
    "        y = p.get_y() + p.get_height()/2\n",
    "        ax.annotate(percentage, (x, y))"
   ]
  },
  {
   "cell_type": "markdown",
   "metadata": {
    "hidden": true
   },
   "source": [
    "### 4.1.2 Numerical Variables"
   ]
  },
  {
   "cell_type": "code",
   "execution_count": 253,
   "metadata": {
    "ExecuteTime": {
     "end_time": "2021-01-11T18:48:13.254494Z",
     "start_time": "2021-01-11T18:47:46.656150Z"
    },
    "hidden": true
   },
   "outputs": [
    {
     "data": {
      "image/png": "[encoded data removed]",
      "text/plain": [
       "<Figure size 1800x864 with 10 Axes>"
      ]
     },
     "metadata": {},
     "output_type": "display_data"
    }
   ],
   "source": [
    "num_attributes = df4.select_dtypes(exclude='object')\n",
    "columns = num_attributes.columns.tolist()\n",
    "j = 1\n",
    "\n",
    "for column in columns:\n",
    "    plt.subplot(2, 5, j)\n",
    "    sns.distplot(num_attributes[column]);\n",
    "    \n",
    "    j += 1"
   ]
  },
  {
   "cell_type": "markdown",
   "metadata": {
    "hidden": true
   },
   "source": [
    "### 4.1.3 Categorical Variables"
   ]
  },
  {
   "cell_type": "code",
   "execution_count": 254,
   "metadata": {
    "ExecuteTime": {
     "end_time": "2021-01-11T18:48:15.988749Z",
     "start_time": "2021-01-11T18:48:13.257365Z"
    },
    "hidden": true
   },
   "outputs": [
    {
     "data": {
      "image/png": "[encoded data removed]",
      "text/plain": [
       "<Figure size 1800x864 with 5 Axes>"
      ]
     },
     "metadata": {},
     "output_type": "display_data"
    }
   ],
   "source": [
    "cat_attributes = df4.select_dtypes(include='object')\n",
    "columns = cat_attributes.columns.tolist()\n",
    "j = 1\n",
    "\n",
    "for column in columns:\n",
    "    plt.subplot(3, 2, j)\n",
    "    ax = sns.countplot(y=column, data=cat_attributes)\n",
    "    \n",
    "    total = cat_attributes[column].size\n",
    "    for p in ax.patches:\n",
    "        percentage = ' {:.1f}%'.format(100 * p.get_width()/total)\n",
    "        x = p.get_x() + p.get_width() + 0.02\n",
    "        y = p.get_y() + p.get_height()/2\n",
    "        ax.annotate(percentage, (x, y))\n",
    "    \n",
    "    j += 1"
   ]
  },
  {
   "cell_type": "markdown",
   "metadata": {
    "hidden": true
   },
   "source": [
    "## 4.2 Bivariate Analysis"
   ]
  },
  {
   "cell_type": "markdown",
   "metadata": {
    "hidden": true
   },
   "source": [
    "### H1 The majority fraud transiction occours for the same user.\n",
    "**TRUE:** The same user origem and destiny has got the same inital letter."
   ]
  },
  {
   "cell_type": "code",
   "execution_count": 255,
   "metadata": {
    "ExecuteTime": {
     "end_time": "2021-01-11T18:48:16.333520Z",
     "start_time": "2021-01-11T18:48:15.991520Z"
    },
    "hidden": true
   },
   "outputs": [
    {
     "data": {
      "image/png": "[encoded data removed]",
      "text/plain": [
       "<Figure size 1800x864 with 1 Axes>"
      ]
     },
     "metadata": {},
     "output_type": "display_data"
    }
   ],
   "source": [
    "aux1 = df4[df4['is_fraud'] == 'yes']\n",
    "sns.countplot(y='name_orig', data=aux1);"
   ]
  },
  {
   "cell_type": "code",
   "execution_count": 256,
   "metadata": {
    "ExecuteTime": {
     "end_time": "2021-01-11T18:48:16.577943Z",
     "start_time": "2021-01-11T18:48:16.336607Z"
    },
    "hidden": true
   },
   "outputs": [
    {
     "data": {
      "image/png": "[encoded data removed]",
      "text/plain": [
       "<Figure size 1800x864 with 1 Axes>"
      ]
     },
     "metadata": {},
     "output_type": "display_data"
    }
   ],
   "source": [
    "sns.countplot(y='name_dest', data=aux1);"
   ]
  },
  {
   "cell_type": "markdown",
   "metadata": {
    "hidden": true
   },
   "source": [
    "### H2 All the fraud amount is greater than 10.000.\n",
    "\n",
    "**TRUE:** The values are greater than 10.000. But it's important to note that the no-fraud values is greater than 100.000 also."
   ]
  },
  {
   "cell_type": "code",
   "execution_count": 257,
   "metadata": {
    "ExecuteTime": {
     "end_time": "2021-01-11T18:48:38.633178Z",
     "start_time": "2021-01-11T18:48:16.580551Z"
    },
    "hidden": true
   },
   "outputs": [
    {
     "data": {
      "image/png": "[encoded data removed]",
      "text/plain": [
       "<Figure size 1800x864 with 1 Axes>"
      ]
     },
     "metadata": {},
     "output_type": "display_data"
    }
   ],
   "source": [
    "sns.barplot(y='amount', x='is_fraud', data=df4);"
   ]
  },
  {
   "cell_type": "markdown",
   "metadata": {
    "hidden": true
   },
   "source": [
    "### H3 60% of fraud transaction occours using cash-out-type method.\n",
    "\n",
    "**FALSE:** The fraud transaction occours in transfer and cash-out type. However they're almost the same value."
   ]
  },
  {
   "cell_type": "code",
   "execution_count": 258,
   "metadata": {
    "ExecuteTime": {
     "end_time": "2021-01-11T18:48:38.986355Z",
     "start_time": "2021-01-11T18:48:38.637113Z"
    },
    "hidden": true
   },
   "outputs": [
    {
     "data": {
      "image/png": "[encoded data removed]",
      "text/plain": [
       "<Figure size 1800x864 with 1 Axes>"
      ]
     },
     "metadata": {},
     "output_type": "display_data"
    }
   ],
   "source": [
    "aux1 = df4[df4['is_fraud'] == 'yes']\n",
    "ax = sns.countplot(y='type', data=aux1)\n",
    "\n",
    "total = aux1['type'].size\n",
    "for p in ax.patches:\n",
    "        percentage = ' {:.1f}%'.format(100 * p.get_width()/total)\n",
    "        x = p.get_x() + p.get_width() + 0.02\n",
    "        y = p.get_y() + p.get_height()/2\n",
    "        ax.annotate(percentage, (x, y))"
   ]
  },
  {
   "cell_type": "markdown",
   "metadata": {
    "hidden": true
   },
   "source": [
    "To see the complete transiction-type and I'll plot them here."
   ]
  },
  {
   "cell_type": "code",
   "execution_count": 259,
   "metadata": {
    "ExecuteTime": {
     "end_time": "2021-01-11T18:48:39.986516Z",
     "start_time": "2021-01-11T18:48:38.989749Z"
    },
    "hidden": true
   },
   "outputs": [
    {
     "data": {
      "image/png": "[encoded data removed]",
      "text/plain": [
       "<Figure size 1800x864 with 1 Axes>"
      ]
     },
     "metadata": {},
     "output_type": "display_data"
    }
   ],
   "source": [
    "ax = sns.countplot(y='type', hue='is_fraud', data=df4)\n",
    "\n",
    "total = df4['type'].size\n",
    "for p in ax.patches:\n",
    "        percentage = ' {:.1f}%'.format(100 * p.get_width()/total)\n",
    "        x = p.get_x() + p.get_width() + 0.02\n",
    "        y = p.get_y() + p.get_height()/2\n",
    "        ax.annotate(percentage, (x, y))"
   ]
  },
  {
   "cell_type": "markdown",
   "metadata": {
    "hidden": true
   },
   "source": [
    "### H4 Values greater than 100.000 occours using transfers-type method.\n",
    "\n",
    "**FALSE:** The majority transactions occours in trasnfer-type, however transactions greater than 100.000 occour in cash-out and cash-in too."
   ]
  },
  {
   "cell_type": "code",
   "execution_count": 260,
   "metadata": {
    "ExecuteTime": {
     "end_time": "2021-01-11T18:48:50.994068Z",
     "start_time": "2021-01-11T18:48:39.989305Z"
    },
    "hidden": true
   },
   "outputs": [
    {
     "data": {
      "image/png": "[encoded data removed]",
      "text/plain": [
       "<Figure size 1800x864 with 1 Axes>"
      ]
     },
     "metadata": {},
     "output_type": "display_data"
    }
   ],
   "source": [
    "ax = sns.barplot(y='type', x='amount', data=df4);\n",
    "\n",
    "total = df4['type'].size\n",
    "for p in ax.patches:\n",
    "        percentage = ' {:.1f}%'.format(100 * p.get_width()/total)\n",
    "        x = p.get_x() + p.get_width() + 0.02\n",
    "        y = p.get_y() + p.get_height()/2\n",
    "        ax.annotate(percentage, (x, y))"
   ]
  },
  {
   "cell_type": "markdown",
   "metadata": {
    "hidden": true
   },
   "source": [
    "### H5 Fraud transactions occours at least in 3 days.\n",
    "\n",
    "**TRUE:** The values for transactions and days in fraud aren't similar."
   ]
  },
  {
   "cell_type": "code",
   "execution_count": 261,
   "metadata": {
    "ExecuteTime": {
     "end_time": "2021-01-11T18:48:51.755961Z",
     "start_time": "2021-01-11T18:48:50.996915Z"
    },
    "hidden": true
   },
   "outputs": [
    {
     "data": {
      "image/png": "[encoded data removed]",
      "text/plain": [
       "<Figure size 1800x864 with 1 Axes>"
      ]
     },
     "metadata": {},
     "output_type": "display_data"
    }
   ],
   "source": [
    "aux1 = df4[df4['is_fraud'] == 'yes']\n",
    "sns.regplot(x='step_days', y='amount', data=aux1);"
   ]
  },
  {
   "cell_type": "markdown",
   "metadata": {
    "hidden": true
   },
   "source": [
    "## 4.3 Multivariaty Analysis"
   ]
  },
  {
   "cell_type": "markdown",
   "metadata": {
    "hidden": true
   },
   "source": [
    "### 4.3.1 Numerical Analysis"
   ]
  },
  {
   "cell_type": "code",
   "execution_count": 262,
   "metadata": {
    "ExecuteTime": {
     "end_time": "2021-01-11T18:48:52.874628Z",
     "start_time": "2021-01-11T18:48:51.759338Z"
    },
    "hidden": true
   },
   "outputs": [
    {
     "data": {
      "image/png": "[encoded data removed]",
      "text/plain": [
       "<Figure size 1800x864 with 2 Axes>"
      ]
     },
     "metadata": {},
     "output_type": "display_data"
    }
   ],
   "source": [
    "corr = num_attributes.corr()\n",
    "\n",
    "mask = np.zeros_like(corr)\n",
    "mask[np.triu_indices_from(mask)] = True\n",
    "\n",
    "with sns.axes_style(\"white\"):\n",
    "    ax = sns.heatmap(corr, annot=True, mask=mask, vmin=-1, center=0, vmax=1, square=True)"
   ]
  },
  {
   "cell_type": "markdown",
   "metadata": {
    "hidden": true
   },
   "source": [
    "### 4.3.2 Categorical Variables"
   ]
  },
  {
   "cell_type": "code",
   "execution_count": 263,
   "metadata": {
    "ExecuteTime": {
     "end_time": "2021-01-11T18:48:56.147550Z",
     "start_time": "2021-01-11T18:48:52.876985Z"
    },
    "hidden": true
   },
   "outputs": [],
   "source": [
    "dict_corr = {}\n",
    "columns = cat_attributes.columns.tolist()\n",
    "\n",
    "for column in columns:\n",
    "    dict_corr[column] = {}\n",
    "    \n",
    "    for column2 in columns:\n",
    "        dict_corr[column][column2] = calcCramerV(cat_attributes[column], cat_attributes[column2])\n",
    "        \n",
    "corr = pd.DataFrame(dict_corr)"
   ]
  },
  {
   "cell_type": "code",
   "execution_count": 264,
   "metadata": {
    "ExecuteTime": {
     "end_time": "2021-01-11T18:48:56.593007Z",
     "start_time": "2021-01-11T18:48:56.149515Z"
    },
    "hidden": true
   },
   "outputs": [
    {
     "data": {
      "image/png": "[encoded data removed]",
      "text/plain": [
       "<Figure size 1800x864 with 2 Axes>"
      ]
     },
     "metadata": {},
     "output_type": "display_data"
    }
   ],
   "source": [
    "mask = np.zeros_like(corr)\n",
    "mask[np.triu_indices_from(mask)] = True\n",
    "\n",
    "with sns.axes_style(\"white\"):\n",
    "    ax = sns.heatmap(corr, annot=True, mask=mask, vmin=0, vmax=1, square=True)"
   ]
  },
  {
   "cell_type": "markdown",
   "metadata": {
    "heading_collapsed": true
   },
   "source": [
    "# 5.0 Data Preparation"
   ]
  },
  {
   "cell_type": "code",
   "execution_count": 347,
   "metadata": {
    "ExecuteTime": {
     "end_time": "2021-01-11T21:08:18.459835Z",
     "start_time": "2021-01-11T21:08:18.344976Z"
    },
    "hidden": true
   },
   "outputs": [],
   "source": [
    "df5 = df4.copy()"
   ]
  },
  {
   "cell_type": "markdown",
   "metadata": {
    "hidden": true
   },
   "source": [
    "## 5.1 Spliting into Train, Valid and Test"
   ]
  },
  {
   "cell_type": "code",
   "execution_count": 348,
   "metadata": {
    "ExecuteTime": {
     "end_time": "2021-01-11T21:08:28.207352Z",
     "start_time": "2021-01-11T21:08:28.110364Z"
    },
    "hidden": true
   },
   "outputs": [],
   "source": [
    "X = df5.drop(columns=['is_fraud', 'is_flagged_fraud', 'name_orig', 'name_dest', \n",
    "                      'step_weeks', 'step_days'], axis=1)\n",
    "y = df5['is_fraud'].map({'yes': 1, 'no': 0})"
   ]
  },
  {
   "cell_type": "code",
   "execution_count": 349,
   "metadata": {
    "ExecuteTime": {
     "end_time": "2021-01-11T21:08:29.045814Z",
     "start_time": "2021-01-11T21:08:28.582692Z"
    },
    "hidden": true
   },
   "outputs": [],
   "source": [
    "# spliting into temp and test\n",
    "X_temp, X_test, y_temp, y_test = train_test_split(X, y, test_size=.2, stratify=y)"
   ]
  },
  {
   "cell_type": "code",
   "execution_count": 350,
   "metadata": {
    "ExecuteTime": {
     "end_time": "2021-01-11T21:08:29.458292Z",
     "start_time": "2021-01-11T21:08:29.049935Z"
    },
    "hidden": true
   },
   "outputs": [],
   "source": [
    "# spliting into train and valid\n",
    "X_train, X_valid, y_train, y_valid = train_test_split(X_temp, y_temp, test_size=.2, stratify=y_temp)"
   ]
  },
  {
   "cell_type": "markdown",
   "metadata": {
    "hidden": true
   },
   "source": [
    "## 5.2 One Hot Encoder"
   ]
  },
  {
   "cell_type": "code",
   "execution_count": 351,
   "metadata": {
    "ExecuteTime": {
     "end_time": "2021-01-11T21:08:32.964462Z",
     "start_time": "2021-01-11T21:08:31.876822Z"
    },
    "hidden": true
   },
   "outputs": [],
   "source": [
    "ohe = OneHotEncoder(cols=['type'], use_cat_names=True)\n",
    "\n",
    "X_train = ohe.fit_transform(X_train)\n",
    "X_valid = ohe.transform(X_valid)\n",
    "\n",
    "X_temp = ohe.fit_transform(X_temp)\n",
    "X_test = ohe.transform(X_test)"
   ]
  },
  {
   "cell_type": "markdown",
   "metadata": {
    "hidden": true
   },
   "source": [
    "## 5.3 Rescaling"
   ]
  },
  {
   "cell_type": "code",
   "execution_count": 271,
   "metadata": {
    "ExecuteTime": {
     "end_time": "2021-01-11T18:49:00.603027Z",
     "start_time": "2021-01-11T18:48:59.044877Z"
    },
    "hidden": true
   },
   "outputs": [],
   "source": [
    "num_columns = ['amount', 'oldbalance_org', 'newbalance_orig', 'oldbalance_dest', 'newbalance_dest',\n",
    "               'diff_new_old_balance', 'diff_new_old_destiny']\n",
    "mm = MinMaxScaler()\n",
    "X_params = X_temp.copy()\n",
    "\n",
    "X_train[num_columns] = mm.fit_transform(X_train[num_columns])\n",
    "X_valid[num_columns] = mm.transform(X_valid[num_columns])\n",
    "\n",
    "X_params[num_columns] = mm.fit_transform(X_temp[num_columns])\n",
    "X_test[num_columns] = mm.transform(X_test[num_columns])"
   ]
  },
  {
   "cell_type": "markdown",
   "metadata": {
    "heading_collapsed": true
   },
   "source": [
    "# 6.0 Feature Selection"
   ]
  },
  {
   "cell_type": "markdown",
   "metadata": {
    "hidden": true
   },
   "source": [
    "## 6.1 Boruta"
   ]
  },
  {
   "cell_type": "code",
   "execution_count": 272,
   "metadata": {
    "ExecuteTime": {
     "end_time": "2021-01-11T18:49:09.114850Z",
     "start_time": "2021-01-11T18:49:09.111669Z"
    },
    "hidden": true
   },
   "outputs": [],
   "source": [
    "# X_boruta = X_params.values\n",
    "# y_boruta = y_temp.values.ravel()"
   ]
  },
  {
   "cell_type": "code",
   "execution_count": 273,
   "metadata": {
    "ExecuteTime": {
     "end_time": "2021-01-11T18:49:09.529190Z",
     "start_time": "2021-01-11T18:49:09.520638Z"
    },
    "hidden": true
   },
   "outputs": [],
   "source": [
    "# boruta = BorutaPy(RandomForestClassifier(), n_estimators='auto')\n",
    "# boruta.fit(X_boruta, y_boruta)"
   ]
  },
  {
   "cell_type": "markdown",
   "metadata": {
    "hidden": true
   },
   "source": [
    "### 6.1.1 Best Features"
   ]
  },
  {
   "cell_type": "code",
   "execution_count": 274,
   "metadata": {
    "ExecuteTime": {
     "end_time": "2021-01-11T18:49:10.256466Z",
     "start_time": "2021-01-11T18:49:10.250350Z"
    },
    "hidden": true
   },
   "outputs": [],
   "source": [
    "# cols_selected_boruta = boruta.support_.tolist()"
   ]
  },
  {
   "cell_type": "code",
   "execution_count": 275,
   "metadata": {
    "ExecuteTime": {
     "end_time": "2021-01-11T18:49:10.575397Z",
     "start_time": "2021-01-11T18:49:10.570081Z"
    },
    "hidden": true
   },
   "outputs": [],
   "source": [
    "# columns_selected = X_params.loc[:, cols_selected_boruta].columns.tolist()"
   ]
  },
  {
   "cell_type": "code",
   "execution_count": 276,
   "metadata": {
    "ExecuteTime": {
     "end_time": "2021-01-11T18:49:10.883715Z",
     "start_time": "2021-01-11T18:49:10.878218Z"
    },
    "hidden": true
   },
   "outputs": [],
   "source": [
    "# columns_selected"
   ]
  },
  {
   "cell_type": "code",
   "execution_count": 277,
   "metadata": {
    "ExecuteTime": {
     "end_time": "2021-01-11T18:49:11.303967Z",
     "start_time": "2021-01-11T18:49:11.301425Z"
    },
    "hidden": true
   },
   "outputs": [],
   "source": [
    "# ['step',\n",
    "#  'amount',\n",
    "#  'oldbalance_org',\n",
    "#  'newbalance_orig',\n",
    "#  'oldbalance_dest',\n",
    "#  'newbalance_dest',\n",
    "#  'diff_new_old_balance',\n",
    "#  'diff_new_old_destiny',\n",
    "#  'type_TRANSFER']"
   ]
  },
  {
   "cell_type": "code",
   "execution_count": 278,
   "metadata": {
    "ExecuteTime": {
     "end_time": "2021-01-11T18:49:11.686754Z",
     "start_time": "2021-01-11T18:49:11.682897Z"
    },
    "hidden": true
   },
   "outputs": [],
   "source": [
    "final_columns_selected = ['step', 'oldbalance_org', \n",
    "                          'newbalance_orig', 'newbalance_dest', \n",
    "                          'diff_new_old_balance', 'diff_new_old_destiny', \n",
    "                          'type_TRANSFER']"
   ]
  },
  {
   "cell_type": "markdown",
   "metadata": {
    "heading_collapsed": true
   },
   "source": [
    "# 7.0 Machine Learning Modeling"
   ]
  },
  {
   "cell_type": "code",
   "execution_count": 279,
   "metadata": {
    "ExecuteTime": {
     "end_time": "2021-01-11T18:49:15.589482Z",
     "start_time": "2021-01-11T18:49:15.542574Z"
    },
    "hidden": true
   },
   "outputs": [],
   "source": [
    "X_train_cs = X_train[final_columns_selected]\n",
    "X_valid_cs = X_valid[final_columns_selected]\n",
    "\n",
    "X_temp_cs = X_temp[final_columns_selected]\n",
    "X_test_cs = X_test[final_columns_selected]\n",
    "\n",
    "X_params_cs = X_params[final_columns_selected]"
   ]
  },
  {
   "cell_type": "markdown",
   "metadata": {
    "hidden": true
   },
   "source": [
    "## 7.1 Baseline"
   ]
  },
  {
   "cell_type": "code",
   "execution_count": 280,
   "metadata": {
    "ExecuteTime": {
     "end_time": "2021-01-11T18:49:16.207942Z",
     "start_time": "2021-01-11T18:49:16.165042Z"
    },
    "hidden": true
   },
   "outputs": [],
   "source": [
    "dummy = DummyClassifier()\n",
    "dummy.fit(X_train_cs, y_train)\n",
    "\n",
    "y_pred = dummy.predict(X_valid_cs)"
   ]
  },
  {
   "cell_type": "code",
   "execution_count": 281,
   "metadata": {
    "ExecuteTime": {
     "end_time": "2021-01-11T18:49:16.806621Z",
     "start_time": "2021-01-11T18:49:16.392671Z"
    },
    "hidden": true
   },
   "outputs": [
    {
     "data": {
      "text/html": [
       "<div>\n",
       "<style scoped>\n",
       "    .dataframe tbody tr th:only-of-type {\n",
       "        vertical-align: middle;\n",
       "    }\n",
       "\n",
       "    .dataframe tbody tr th {\n",
       "        vertical-align: top;\n",
       "    }\n",
       "\n",
       "    .dataframe thead th {\n",
       "        text-align: right;\n",
       "    }\n",
       "</style>\n",
       "<table border=\"1\" class=\"dataframe\">\n",
       "  <thead>\n",
       "    <tr style=\"text-align: right;\">\n",
       "      <th></th>\n",
       "      <th>Balanced Accuracy</th>\n",
       "      <th>Precision</th>\n",
       "      <th>Recall</th>\n",
       "      <th>F1</th>\n",
       "      <th>Kappa</th>\n",
       "    </tr>\n",
       "  </thead>\n",
       "  <tbody>\n",
       "    <tr>\n",
       "      <th>dummy</th>\n",
       "      <td>0.499</td>\n",
       "      <td>0.0</td>\n",
       "      <td>0.0</td>\n",
       "      <td>0.0</td>\n",
       "      <td>-0.001</td>\n",
       "    </tr>\n",
       "  </tbody>\n",
       "</table>\n",
       "</div>"
      ],
      "text/plain": [
       "       Balanced Accuracy  Precision  Recall   F1  Kappa\n",
       "dummy              0.499        0.0     0.0  0.0 -0.001"
      ]
     },
     "execution_count": 281,
     "metadata": {},
     "output_type": "execute_result"
    }
   ],
   "source": [
    "dummy_results = ml_scores('dummy', y_valid, y_pred)\n",
    "dummy_results"
   ]
  },
  {
   "cell_type": "markdown",
   "metadata": {
    "hidden": true
   },
   "source": [
    "### 7.1.1 Classification Report"
   ]
  },
  {
   "cell_type": "code",
   "execution_count": 282,
   "metadata": {
    "ExecuteTime": {
     "end_time": "2021-01-11T18:49:17.080288Z",
     "start_time": "2021-01-11T18:49:16.873841Z"
    },
    "hidden": true
   },
   "outputs": [
    {
     "name": "stdout",
     "output_type": "stream",
     "text": [
      "              precision    recall  f1-score   support\n",
      "\n",
      "           0       1.00      1.00      1.00    101671\n",
      "           1       0.00      0.00      0.00       131\n",
      "\n",
      "    accuracy                           1.00    101802\n",
      "   macro avg       0.50      0.50      0.50    101802\n",
      "weighted avg       1.00      1.00      1.00    101802\n",
      "\n"
     ]
    }
   ],
   "source": [
    "print(classification_report(y_valid, y_pred))"
   ]
  },
  {
   "cell_type": "markdown",
   "metadata": {
    "hidden": true
   },
   "source": [
    "### 7.1.2 Cross Validation"
   ]
  },
  {
   "cell_type": "code",
   "execution_count": 283,
   "metadata": {
    "ExecuteTime": {
     "end_time": "2021-01-11T18:49:20.042373Z",
     "start_time": "2021-01-11T18:49:17.255171Z"
    },
    "hidden": true
   },
   "outputs": [
    {
     "name": "stdout",
     "output_type": "stream",
     "text": [
      "Fold K=1\n",
      "Fold K=2\n",
      "Fold K=3\n",
      "Fold K=4\n",
      "Fold K=5\n"
     ]
    },
    {
     "data": {
      "text/html": [
       "<div>\n",
       "<style scoped>\n",
       "    .dataframe tbody tr th:only-of-type {\n",
       "        vertical-align: middle;\n",
       "    }\n",
       "\n",
       "    .dataframe tbody tr th {\n",
       "        vertical-align: top;\n",
       "    }\n",
       "\n",
       "    .dataframe thead th {\n",
       "        text-align: right;\n",
       "    }\n",
       "</style>\n",
       "<table border=\"1\" class=\"dataframe\">\n",
       "  <thead>\n",
       "    <tr style=\"text-align: right;\">\n",
       "      <th></th>\n",
       "      <th>Balanced Accuracy</th>\n",
       "      <th>Precision</th>\n",
       "      <th>Recall</th>\n",
       "      <th>F1</th>\n",
       "      <th>Kappa</th>\n",
       "    </tr>\n",
       "  </thead>\n",
       "  <tbody>\n",
       "    <tr>\n",
       "      <th>Dummy</th>\n",
       "      <td>0.499 +/- 0.0</td>\n",
       "      <td>0.0 +/- 0.0</td>\n",
       "      <td>0.0 +/- 0.0</td>\n",
       "      <td>0.0 +/- 0.0</td>\n",
       "      <td>-0.001 +/- 0.0</td>\n",
       "    </tr>\n",
       "  </tbody>\n",
       "</table>\n",
       "</div>"
      ],
      "text/plain": [
       "      Balanced Accuracy    Precision       Recall           F1           Kappa\n",
       "Dummy     0.499 +/- 0.0  0.0 +/- 0.0  0.0 +/- 0.0  0.0 +/- 0.0  -0.001 +/- 0.0"
      ]
     },
     "execution_count": 283,
     "metadata": {},
     "output_type": "execute_result"
    }
   ],
   "source": [
    "dummy_cv = ml_cv_results('Dummy', DummyClassifier(), X_temp, y_temp)\n",
    "dummy_cv"
   ]
  },
  {
   "cell_type": "markdown",
   "metadata": {
    "hidden": true
   },
   "source": [
    "## 7.2 Logistic Regression"
   ]
  },
  {
   "cell_type": "code",
   "execution_count": 284,
   "metadata": {
    "ExecuteTime": {
     "end_time": "2021-01-11T18:49:26.692331Z",
     "start_time": "2021-01-11T18:49:20.044652Z"
    },
    "hidden": true
   },
   "outputs": [],
   "source": [
    "lg = LogisticRegression()\n",
    "lg.fit(X_train_cs, y_train)\n",
    "\n",
    "y_pred = lg.predict(X_valid_cs)"
   ]
  },
  {
   "cell_type": "code",
   "execution_count": 285,
   "metadata": {
    "ExecuteTime": {
     "end_time": "2021-01-11T18:49:27.135619Z",
     "start_time": "2021-01-11T18:49:26.696473Z"
    },
    "hidden": true
   },
   "outputs": [
    {
     "data": {
      "text/html": [
       "<div>\n",
       "<style scoped>\n",
       "    .dataframe tbody tr th:only-of-type {\n",
       "        vertical-align: middle;\n",
       "    }\n",
       "\n",
       "    .dataframe tbody tr th {\n",
       "        vertical-align: top;\n",
       "    }\n",
       "\n",
       "    .dataframe thead th {\n",
       "        text-align: right;\n",
       "    }\n",
       "</style>\n",
       "<table border=\"1\" class=\"dataframe\">\n",
       "  <thead>\n",
       "    <tr style=\"text-align: right;\">\n",
       "      <th></th>\n",
       "      <th>Balanced Accuracy</th>\n",
       "      <th>Precision</th>\n",
       "      <th>Recall</th>\n",
       "      <th>F1</th>\n",
       "      <th>Kappa</th>\n",
       "    </tr>\n",
       "  </thead>\n",
       "  <tbody>\n",
       "    <tr>\n",
       "      <th>Logistic Regression</th>\n",
       "      <td>0.584</td>\n",
       "      <td>1.0</td>\n",
       "      <td>0.168</td>\n",
       "      <td>0.288</td>\n",
       "      <td>0.287</td>\n",
       "    </tr>\n",
       "  </tbody>\n",
       "</table>\n",
       "</div>"
      ],
      "text/plain": [
       "                     Balanced Accuracy  Precision  Recall     F1  Kappa\n",
       "Logistic Regression              0.584        1.0   0.168  0.288  0.287"
      ]
     },
     "execution_count": 285,
     "metadata": {},
     "output_type": "execute_result"
    }
   ],
   "source": [
    "lg_results = ml_scores('Logistic Regression', y_valid, y_pred)\n",
    "lg_results"
   ]
  },
  {
   "cell_type": "markdown",
   "metadata": {
    "hidden": true
   },
   "source": [
    "### 7.2.1 Classification Report"
   ]
  },
  {
   "cell_type": "code",
   "execution_count": 286,
   "metadata": {
    "ExecuteTime": {
     "end_time": "2021-01-11T18:49:27.359204Z",
     "start_time": "2021-01-11T18:49:27.138782Z"
    },
    "hidden": true
   },
   "outputs": [
    {
     "name": "stdout",
     "output_type": "stream",
     "text": [
      "              precision    recall  f1-score   support\n",
      "\n",
      "           0       1.00      1.00      1.00    101671\n",
      "           1       1.00      0.17      0.29       131\n",
      "\n",
      "    accuracy                           1.00    101802\n",
      "   macro avg       1.00      0.58      0.64    101802\n",
      "weighted avg       1.00      1.00      1.00    101802\n",
      "\n"
     ]
    }
   ],
   "source": [
    "print(classification_report(y_valid, y_pred))"
   ]
  },
  {
   "cell_type": "markdown",
   "metadata": {
    "hidden": true
   },
   "source": [
    "### 7.2.2 Cross Validation"
   ]
  },
  {
   "cell_type": "code",
   "execution_count": 287,
   "metadata": {
    "ExecuteTime": {
     "end_time": "2021-01-11T18:49:45.056149Z",
     "start_time": "2021-01-11T18:49:27.362727Z"
    },
    "hidden": true
   },
   "outputs": [
    {
     "name": "stdout",
     "output_type": "stream",
     "text": [
      "Fold K=1\n",
      "Fold K=2\n",
      "Fold K=3\n",
      "Fold K=4\n",
      "Fold K=5\n"
     ]
    },
    {
     "data": {
      "text/html": [
       "<div>\n",
       "<style scoped>\n",
       "    .dataframe tbody tr th:only-of-type {\n",
       "        vertical-align: middle;\n",
       "    }\n",
       "\n",
       "    .dataframe tbody tr th {\n",
       "        vertical-align: top;\n",
       "    }\n",
       "\n",
       "    .dataframe thead th {\n",
       "        text-align: right;\n",
       "    }\n",
       "</style>\n",
       "<table border=\"1\" class=\"dataframe\">\n",
       "  <thead>\n",
       "    <tr style=\"text-align: right;\">\n",
       "      <th></th>\n",
       "      <th>Balanced Accuracy</th>\n",
       "      <th>Precision</th>\n",
       "      <th>Recall</th>\n",
       "      <th>F1</th>\n",
       "      <th>Kappa</th>\n",
       "    </tr>\n",
       "  </thead>\n",
       "  <tbody>\n",
       "    <tr>\n",
       "      <th>Logistic Regression</th>\n",
       "      <td>0.565 +/- 0.009</td>\n",
       "      <td>1.0 +/- 0.0</td>\n",
       "      <td>0.129 +/- 0.017</td>\n",
       "      <td>0.229 +/- 0.027</td>\n",
       "      <td>0.228 +/- 0.027</td>\n",
       "    </tr>\n",
       "  </tbody>\n",
       "</table>\n",
       "</div>"
      ],
      "text/plain": [
       "                    Balanced Accuracy    Precision           Recall               F1            Kappa\n",
       "Logistic Regression   0.565 +/- 0.009  1.0 +/- 0.0  0.129 +/- 0.017  0.229 +/- 0.027  0.228 +/- 0.027"
      ]
     },
     "execution_count": 287,
     "metadata": {},
     "output_type": "execute_result"
    }
   ],
   "source": [
    "lg_cv = ml_cv_results('Logistic Regression',\n",
    "                      LogisticRegression(), \n",
    "                      X_temp_cs, y_temp)\n",
    "lg_cv"
   ]
  },
  {
   "cell_type": "markdown",
   "metadata": {
    "hidden": true
   },
   "source": [
    "## 7.3 K Nearest Neighbors"
   ]
  },
  {
   "cell_type": "code",
   "execution_count": 288,
   "metadata": {
    "ExecuteTime": {
     "end_time": "2021-01-11T18:49:57.229314Z",
     "start_time": "2021-01-11T18:49:45.059296Z"
    },
    "hidden": true
   },
   "outputs": [],
   "source": [
    "knn = KNeighborsClassifier()\n",
    "knn.fit(X_train_cs, y_train)\n",
    "\n",
    "y_pred = knn.predict(X_valid_cs)"
   ]
  },
  {
   "cell_type": "code",
   "execution_count": 289,
   "metadata": {
    "ExecuteTime": {
     "end_time": "2021-01-11T18:49:57.583127Z",
     "start_time": "2021-01-11T18:49:57.231046Z"
    },
    "hidden": true
   },
   "outputs": [
    {
     "data": {
      "text/html": [
       "<div>\n",
       "<style scoped>\n",
       "    .dataframe tbody tr th:only-of-type {\n",
       "        vertical-align: middle;\n",
       "    }\n",
       "\n",
       "    .dataframe tbody tr th {\n",
       "        vertical-align: top;\n",
       "    }\n",
       "\n",
       "    .dataframe thead th {\n",
       "        text-align: right;\n",
       "    }\n",
       "</style>\n",
       "<table border=\"1\" class=\"dataframe\">\n",
       "  <thead>\n",
       "    <tr style=\"text-align: right;\">\n",
       "      <th></th>\n",
       "      <th>Balanced Accuracy</th>\n",
       "      <th>Precision</th>\n",
       "      <th>Recall</th>\n",
       "      <th>F1</th>\n",
       "      <th>Kappa</th>\n",
       "    </tr>\n",
       "  </thead>\n",
       "  <tbody>\n",
       "    <tr>\n",
       "      <th>K Nearest Neighbors</th>\n",
       "      <td>0.565</td>\n",
       "      <td>1.0</td>\n",
       "      <td>0.13</td>\n",
       "      <td>0.23</td>\n",
       "      <td>0.23</td>\n",
       "    </tr>\n",
       "  </tbody>\n",
       "</table>\n",
       "</div>"
      ],
      "text/plain": [
       "                     Balanced Accuracy  Precision  Recall    F1  Kappa\n",
       "K Nearest Neighbors              0.565        1.0    0.13  0.23   0.23"
      ]
     },
     "execution_count": 289,
     "metadata": {},
     "output_type": "execute_result"
    }
   ],
   "source": [
    "knn_results = ml_scores('K Nearest Neighbors', y_valid, y_pred)\n",
    "knn_results"
   ]
  },
  {
   "cell_type": "markdown",
   "metadata": {
    "hidden": true
   },
   "source": [
    "### 7.3.1 Classification Report"
   ]
  },
  {
   "cell_type": "code",
   "execution_count": 290,
   "metadata": {
    "ExecuteTime": {
     "end_time": "2021-01-11T18:49:57.762156Z",
     "start_time": "2021-01-11T18:49:57.586973Z"
    },
    "hidden": true
   },
   "outputs": [
    {
     "name": "stdout",
     "output_type": "stream",
     "text": [
      "              precision    recall  f1-score   support\n",
      "\n",
      "           0       1.00      1.00      1.00    101671\n",
      "           1       1.00      0.13      0.23       131\n",
      "\n",
      "    accuracy                           1.00    101802\n",
      "   macro avg       1.00      0.56      0.61    101802\n",
      "weighted avg       1.00      1.00      1.00    101802\n",
      "\n"
     ]
    }
   ],
   "source": [
    "print(classification_report(y_valid, y_pred))"
   ]
  },
  {
   "cell_type": "markdown",
   "metadata": {
    "hidden": true
   },
   "source": [
    "### 7.3.2 Cross Validation"
   ]
  },
  {
   "cell_type": "code",
   "execution_count": 291,
   "metadata": {
    "ExecuteTime": {
     "end_time": "2021-01-11T19:07:47.919357Z",
     "start_time": "2021-01-11T18:49:57.764539Z"
    },
    "hidden": true
   },
   "outputs": [
    {
     "name": "stdout",
     "output_type": "stream",
     "text": [
      "Fold K=1\n",
      "Fold K=2\n",
      "Fold K=3\n",
      "Fold K=4\n",
      "Fold K=5\n"
     ]
    },
    {
     "data": {
      "text/html": [
       "<div>\n",
       "<style scoped>\n",
       "    .dataframe tbody tr th:only-of-type {\n",
       "        vertical-align: middle;\n",
       "    }\n",
       "\n",
       "    .dataframe tbody tr th {\n",
       "        vertical-align: top;\n",
       "    }\n",
       "\n",
       "    .dataframe thead th {\n",
       "        text-align: right;\n",
       "    }\n",
       "</style>\n",
       "<table border=\"1\" class=\"dataframe\">\n",
       "  <thead>\n",
       "    <tr style=\"text-align: right;\">\n",
       "      <th></th>\n",
       "      <th>Balanced Accuracy</th>\n",
       "      <th>Precision</th>\n",
       "      <th>Recall</th>\n",
       "      <th>F1</th>\n",
       "      <th>Kappa</th>\n",
       "    </tr>\n",
       "  </thead>\n",
       "  <tbody>\n",
       "    <tr>\n",
       "      <th>K Nearest Neighbors</th>\n",
       "      <td>0.705 +/- 0.037</td>\n",
       "      <td>0.942 +/- 0.022</td>\n",
       "      <td>0.409 +/- 0.074</td>\n",
       "      <td>0.568 +/- 0.073</td>\n",
       "      <td>0.567 +/- 0.073</td>\n",
       "    </tr>\n",
       "  </tbody>\n",
       "</table>\n",
       "</div>"
      ],
      "text/plain": [
       "                    Balanced Accuracy        Precision           Recall               F1            Kappa\n",
       "K Nearest Neighbors   0.705 +/- 0.037  0.942 +/- 0.022  0.409 +/- 0.074  0.568 +/- 0.073  0.567 +/- 0.073"
      ]
     },
     "execution_count": 291,
     "metadata": {},
     "output_type": "execute_result"
    }
   ],
   "source": [
    "knn_cv = ml_cv_results('K Nearest Neighbors', KNeighborsClassifier(), \n",
    "                       X_temp_cs, y_temp)\n",
    "knn_cv"
   ]
  },
  {
   "cell_type": "markdown",
   "metadata": {
    "hidden": true
   },
   "source": [
    "## 7.4 Support Vector Machine"
   ]
  },
  {
   "cell_type": "code",
   "execution_count": 292,
   "metadata": {
    "ExecuteTime": {
     "end_time": "2021-01-11T19:08:11.602901Z",
     "start_time": "2021-01-11T19:07:47.928024Z"
    },
    "hidden": true
   },
   "outputs": [],
   "source": [
    "svm = SVC()\n",
    "svm.fit(X_train_cs, y_train)\n",
    "\n",
    "y_pred = svm.predict(X_valid_cs)"
   ]
  },
  {
   "cell_type": "code",
   "execution_count": 293,
   "metadata": {
    "ExecuteTime": {
     "end_time": "2021-01-11T19:08:12.006181Z",
     "start_time": "2021-01-11T19:08:11.604735Z"
    },
    "hidden": true
   },
   "outputs": [
    {
     "data": {
      "text/html": [
       "<div>\n",
       "<style scoped>\n",
       "    .dataframe tbody tr th:only-of-type {\n",
       "        vertical-align: middle;\n",
       "    }\n",
       "\n",
       "    .dataframe tbody tr th {\n",
       "        vertical-align: top;\n",
       "    }\n",
       "\n",
       "    .dataframe thead th {\n",
       "        text-align: right;\n",
       "    }\n",
       "</style>\n",
       "<table border=\"1\" class=\"dataframe\">\n",
       "  <thead>\n",
       "    <tr style=\"text-align: right;\">\n",
       "      <th></th>\n",
       "      <th>Balanced Accuracy</th>\n",
       "      <th>Precision</th>\n",
       "      <th>Recall</th>\n",
       "      <th>F1</th>\n",
       "      <th>Kappa</th>\n",
       "    </tr>\n",
       "  </thead>\n",
       "  <tbody>\n",
       "    <tr>\n",
       "      <th>SVM</th>\n",
       "      <td>0.5</td>\n",
       "      <td>0.0</td>\n",
       "      <td>0.0</td>\n",
       "      <td>0.0</td>\n",
       "      <td>0.0</td>\n",
       "    </tr>\n",
       "  </tbody>\n",
       "</table>\n",
       "</div>"
      ],
      "text/plain": [
       "     Balanced Accuracy  Precision  Recall   F1  Kappa\n",
       "SVM                0.5        0.0     0.0  0.0    0.0"
      ]
     },
     "execution_count": 293,
     "metadata": {},
     "output_type": "execute_result"
    }
   ],
   "source": [
    "svm_results = ml_scores('SVM', y_valid, y_pred)\n",
    "svm_results"
   ]
  },
  {
   "cell_type": "markdown",
   "metadata": {
    "hidden": true
   },
   "source": [
    "### 7.4.1 Classification Report"
   ]
  },
  {
   "cell_type": "code",
   "execution_count": 294,
   "metadata": {
    "ExecuteTime": {
     "end_time": "2021-01-11T19:08:12.197097Z",
     "start_time": "2021-01-11T19:08:12.008910Z"
    },
    "hidden": true
   },
   "outputs": [
    {
     "name": "stdout",
     "output_type": "stream",
     "text": [
      "              precision    recall  f1-score   support\n",
      "\n",
      "           0       1.00      1.00      1.00    101671\n",
      "           1       0.00      0.00      0.00       131\n",
      "\n",
      "    accuracy                           1.00    101802\n",
      "   macro avg       0.50      0.50      0.50    101802\n",
      "weighted avg       1.00      1.00      1.00    101802\n",
      "\n"
     ]
    }
   ],
   "source": [
    "print(classification_report(y_valid, y_pred))"
   ]
  },
  {
   "cell_type": "markdown",
   "metadata": {
    "hidden": true
   },
   "source": [
    "### 7.4.2 Cross Validation"
   ]
  },
  {
   "cell_type": "code",
   "execution_count": 295,
   "metadata": {
    "ExecuteTime": {
     "end_time": "2021-01-11T19:09:56.802520Z",
     "start_time": "2021-01-11T19:08:12.200264Z"
    },
    "hidden": true
   },
   "outputs": [
    {
     "name": "stdout",
     "output_type": "stream",
     "text": [
      "Fold K=1\n",
      "Fold K=2\n",
      "Fold K=3\n",
      "Fold K=4\n",
      "Fold K=5\n"
     ]
    },
    {
     "data": {
      "text/html": [
       "<div>\n",
       "<style scoped>\n",
       "    .dataframe tbody tr th:only-of-type {\n",
       "        vertical-align: middle;\n",
       "    }\n",
       "\n",
       "    .dataframe tbody tr th {\n",
       "        vertical-align: top;\n",
       "    }\n",
       "\n",
       "    .dataframe thead th {\n",
       "        text-align: right;\n",
       "    }\n",
       "</style>\n",
       "<table border=\"1\" class=\"dataframe\">\n",
       "  <thead>\n",
       "    <tr style=\"text-align: right;\">\n",
       "      <th></th>\n",
       "      <th>Balanced Accuracy</th>\n",
       "      <th>Precision</th>\n",
       "      <th>Recall</th>\n",
       "      <th>F1</th>\n",
       "      <th>Kappa</th>\n",
       "    </tr>\n",
       "  </thead>\n",
       "  <tbody>\n",
       "    <tr>\n",
       "      <th>SVM</th>\n",
       "      <td>0.595 +/- 0.013</td>\n",
       "      <td>1.0 +/- 0.0</td>\n",
       "      <td>0.19 +/- 0.026</td>\n",
       "      <td>0.319 +/- 0.037</td>\n",
       "      <td>0.319 +/- 0.037</td>\n",
       "    </tr>\n",
       "  </tbody>\n",
       "</table>\n",
       "</div>"
      ],
      "text/plain": [
       "    Balanced Accuracy    Precision          Recall               F1            Kappa\n",
       "SVM   0.595 +/- 0.013  1.0 +/- 0.0  0.19 +/- 0.026  0.319 +/- 0.037  0.319 +/- 0.037"
      ]
     },
     "execution_count": 295,
     "metadata": {},
     "output_type": "execute_result"
    }
   ],
   "source": [
    "svm_cv = ml_cv_results('SVM', SVC(), X_temp_cs, y_temp)\n",
    "svm_cv"
   ]
  },
  {
   "cell_type": "markdown",
   "metadata": {
    "hidden": true
   },
   "source": [
    "## 7.5 Random Forest"
   ]
  },
  {
   "cell_type": "code",
   "execution_count": 296,
   "metadata": {
    "ExecuteTime": {
     "end_time": "2021-01-11T19:10:42.703370Z",
     "start_time": "2021-01-11T19:09:56.805739Z"
    },
    "hidden": true
   },
   "outputs": [],
   "source": [
    "rf = RandomForestClassifier(class_weight='balanced')\n",
    "rf.fit(X_train_cs, y_train)\n",
    "\n",
    "y_pred = rf.predict(X_valid_cs)"
   ]
  },
  {
   "cell_type": "code",
   "execution_count": 297,
   "metadata": {
    "ExecuteTime": {
     "end_time": "2021-01-11T19:10:43.040609Z",
     "start_time": "2021-01-11T19:10:42.705221Z"
    },
    "hidden": true
   },
   "outputs": [
    {
     "data": {
      "text/html": [
       "<div>\n",
       "<style scoped>\n",
       "    .dataframe tbody tr th:only-of-type {\n",
       "        vertical-align: middle;\n",
       "    }\n",
       "\n",
       "    .dataframe tbody tr th {\n",
       "        vertical-align: top;\n",
       "    }\n",
       "\n",
       "    .dataframe thead th {\n",
       "        text-align: right;\n",
       "    }\n",
       "</style>\n",
       "<table border=\"1\" class=\"dataframe\">\n",
       "  <thead>\n",
       "    <tr style=\"text-align: right;\">\n",
       "      <th></th>\n",
       "      <th>Balanced Accuracy</th>\n",
       "      <th>Precision</th>\n",
       "      <th>Recall</th>\n",
       "      <th>F1</th>\n",
       "      <th>Kappa</th>\n",
       "    </tr>\n",
       "  </thead>\n",
       "  <tbody>\n",
       "    <tr>\n",
       "      <th>Random Forest</th>\n",
       "      <td>0.844</td>\n",
       "      <td>0.978</td>\n",
       "      <td>0.687</td>\n",
       "      <td>0.807</td>\n",
       "      <td>0.807</td>\n",
       "    </tr>\n",
       "  </tbody>\n",
       "</table>\n",
       "</div>"
      ],
      "text/plain": [
       "               Balanced Accuracy  Precision  Recall     F1  Kappa\n",
       "Random Forest              0.844      0.978   0.687  0.807  0.807"
      ]
     },
     "execution_count": 297,
     "metadata": {},
     "output_type": "execute_result"
    }
   ],
   "source": [
    "rf_results = ml_scores('Random Forest', y_valid, y_pred)\n",
    "rf_results"
   ]
  },
  {
   "cell_type": "markdown",
   "metadata": {
    "hidden": true
   },
   "source": [
    "### 7.5.1 Classification Report"
   ]
  },
  {
   "cell_type": "code",
   "execution_count": 298,
   "metadata": {
    "ExecuteTime": {
     "end_time": "2021-01-11T19:10:43.220005Z",
     "start_time": "2021-01-11T19:10:43.043253Z"
    },
    "hidden": true
   },
   "outputs": [
    {
     "name": "stdout",
     "output_type": "stream",
     "text": [
      "              precision    recall  f1-score   support\n",
      "\n",
      "           0       1.00      1.00      1.00    101671\n",
      "           1       0.98      0.69      0.81       131\n",
      "\n",
      "    accuracy                           1.00    101802\n",
      "   macro avg       0.99      0.84      0.90    101802\n",
      "weighted avg       1.00      1.00      1.00    101802\n",
      "\n"
     ]
    }
   ],
   "source": [
    "print(classification_report(y_valid, y_pred))"
   ]
  },
  {
   "cell_type": "markdown",
   "metadata": {
    "hidden": true
   },
   "source": [
    "### 7.5.2 Cross Validation"
   ]
  },
  {
   "cell_type": "code",
   "execution_count": 299,
   "metadata": {
    "ExecuteTime": {
     "end_time": "2021-01-11T19:15:54.845672Z",
     "start_time": "2021-01-11T19:10:43.223572Z"
    },
    "hidden": true
   },
   "outputs": [
    {
     "name": "stdout",
     "output_type": "stream",
     "text": [
      "Fold K=1\n",
      "Fold K=2\n",
      "Fold K=3\n",
      "Fold K=4\n",
      "Fold K=5\n"
     ]
    },
    {
     "data": {
      "text/html": [
       "<div>\n",
       "<style scoped>\n",
       "    .dataframe tbody tr th:only-of-type {\n",
       "        vertical-align: middle;\n",
       "    }\n",
       "\n",
       "    .dataframe tbody tr th {\n",
       "        vertical-align: top;\n",
       "    }\n",
       "\n",
       "    .dataframe thead th {\n",
       "        text-align: right;\n",
       "    }\n",
       "</style>\n",
       "<table border=\"1\" class=\"dataframe\">\n",
       "  <thead>\n",
       "    <tr style=\"text-align: right;\">\n",
       "      <th></th>\n",
       "      <th>Balanced Accuracy</th>\n",
       "      <th>Precision</th>\n",
       "      <th>Recall</th>\n",
       "      <th>F1</th>\n",
       "      <th>Kappa</th>\n",
       "    </tr>\n",
       "  </thead>\n",
       "  <tbody>\n",
       "    <tr>\n",
       "      <th>Random Forest</th>\n",
       "      <td>0.865 +/- 0.017</td>\n",
       "      <td>0.972 +/- 0.014</td>\n",
       "      <td>0.731 +/- 0.033</td>\n",
       "      <td>0.834 +/- 0.022</td>\n",
       "      <td>0.833 +/- 0.022</td>\n",
       "    </tr>\n",
       "  </tbody>\n",
       "</table>\n",
       "</div>"
      ],
      "text/plain": [
       "              Balanced Accuracy        Precision           Recall               F1            Kappa\n",
       "Random Forest   0.865 +/- 0.017  0.972 +/- 0.014  0.731 +/- 0.033  0.834 +/- 0.022  0.833 +/- 0.022"
      ]
     },
     "execution_count": 299,
     "metadata": {},
     "output_type": "execute_result"
    }
   ],
   "source": [
    "rf_cv = ml_cv_results('Random Forest', \n",
    "                      RandomForestClassifier(), \n",
    "                      X_temp_cs, y_temp)\n",
    "rf_cv"
   ]
  },
  {
   "cell_type": "markdown",
   "metadata": {
    "hidden": true
   },
   "source": [
    "## 7.6 XGBoost"
   ]
  },
  {
   "cell_type": "code",
   "execution_count": 301,
   "metadata": {
    "ExecuteTime": {
     "end_time": "2021-01-11T19:17:29.668827Z",
     "start_time": "2021-01-11T19:17:03.475475Z"
    },
    "hidden": true
   },
   "outputs": [],
   "source": [
    "xgb = XGBClassifier()\n",
    "xgb.fit(X_train_cs, y_train)\n",
    "\n",
    "y_pred = xgb.predict(X_valid_cs)"
   ]
  },
  {
   "cell_type": "code",
   "execution_count": 302,
   "metadata": {
    "ExecuteTime": {
     "end_time": "2021-01-11T19:17:30.046338Z",
     "start_time": "2021-01-11T19:17:29.672182Z"
    },
    "hidden": true
   },
   "outputs": [
    {
     "data": {
      "text/html": [
       "<div>\n",
       "<style scoped>\n",
       "    .dataframe tbody tr th:only-of-type {\n",
       "        vertical-align: middle;\n",
       "    }\n",
       "\n",
       "    .dataframe tbody tr th {\n",
       "        vertical-align: top;\n",
       "    }\n",
       "\n",
       "    .dataframe thead th {\n",
       "        text-align: right;\n",
       "    }\n",
       "</style>\n",
       "<table border=\"1\" class=\"dataframe\">\n",
       "  <thead>\n",
       "    <tr style=\"text-align: right;\">\n",
       "      <th></th>\n",
       "      <th>Balanced Accuracy</th>\n",
       "      <th>Precision</th>\n",
       "      <th>Recall</th>\n",
       "      <th>F1</th>\n",
       "      <th>Kappa</th>\n",
       "    </tr>\n",
       "  </thead>\n",
       "  <tbody>\n",
       "    <tr>\n",
       "      <th>XGBoost</th>\n",
       "      <td>0.863</td>\n",
       "      <td>0.969</td>\n",
       "      <td>0.725</td>\n",
       "      <td>0.83</td>\n",
       "      <td>0.83</td>\n",
       "    </tr>\n",
       "  </tbody>\n",
       "</table>\n",
       "</div>"
      ],
      "text/plain": [
       "         Balanced Accuracy  Precision  Recall    F1  Kappa\n",
       "XGBoost              0.863      0.969   0.725  0.83   0.83"
      ]
     },
     "execution_count": 302,
     "metadata": {},
     "output_type": "execute_result"
    }
   ],
   "source": [
    "xgb_results = ml_scores('XGBoost', y_valid, y_pred)\n",
    "xgb_results"
   ]
  },
  {
   "cell_type": "markdown",
   "metadata": {
    "hidden": true
   },
   "source": [
    "### 7.6.1 Classification Report"
   ]
  },
  {
   "cell_type": "code",
   "execution_count": 303,
   "metadata": {
    "ExecuteTime": {
     "end_time": "2021-01-11T19:17:30.279678Z",
     "start_time": "2021-01-11T19:17:30.052006Z"
    },
    "hidden": true
   },
   "outputs": [
    {
     "name": "stdout",
     "output_type": "stream",
     "text": [
      "              precision    recall  f1-score   support\n",
      "\n",
      "           0       1.00      1.00      1.00    101671\n",
      "           1       0.97      0.73      0.83       131\n",
      "\n",
      "    accuracy                           1.00    101802\n",
      "   macro avg       0.98      0.86      0.91    101802\n",
      "weighted avg       1.00      1.00      1.00    101802\n",
      "\n"
     ]
    }
   ],
   "source": [
    "print(classification_report(y_valid, y_pred))"
   ]
  },
  {
   "cell_type": "markdown",
   "metadata": {
    "hidden": true
   },
   "source": [
    "### 7.6.2 Cross Validation"
   ]
  },
  {
   "cell_type": "code",
   "execution_count": 305,
   "metadata": {
    "ExecuteTime": {
     "end_time": "2021-01-11T19:21:43.707004Z",
     "start_time": "2021-01-11T19:19:26.657905Z"
    },
    "hidden": true
   },
   "outputs": [
    {
     "name": "stdout",
     "output_type": "stream",
     "text": [
      "Fold K=1\n",
      "Fold K=2\n",
      "Fold K=3\n",
      "Fold K=4\n",
      "Fold K=5\n"
     ]
    },
    {
     "data": {
      "text/html": [
       "<div>\n",
       "<style scoped>\n",
       "    .dataframe tbody tr th:only-of-type {\n",
       "        vertical-align: middle;\n",
       "    }\n",
       "\n",
       "    .dataframe tbody tr th {\n",
       "        vertical-align: top;\n",
       "    }\n",
       "\n",
       "    .dataframe thead th {\n",
       "        text-align: right;\n",
       "    }\n",
       "</style>\n",
       "<table border=\"1\" class=\"dataframe\">\n",
       "  <thead>\n",
       "    <tr style=\"text-align: right;\">\n",
       "      <th></th>\n",
       "      <th>Balanced Accuracy</th>\n",
       "      <th>Precision</th>\n",
       "      <th>Recall</th>\n",
       "      <th>F1</th>\n",
       "      <th>Kappa</th>\n",
       "    </tr>\n",
       "  </thead>\n",
       "  <tbody>\n",
       "    <tr>\n",
       "      <th>XGBoost</th>\n",
       "      <td>0.88 +/- 0.016</td>\n",
       "      <td>0.963 +/- 0.008</td>\n",
       "      <td>0.761 +/- 0.033</td>\n",
       "      <td>0.85 +/- 0.023</td>\n",
       "      <td>0.85 +/- 0.023</td>\n",
       "    </tr>\n",
       "  </tbody>\n",
       "</table>\n",
       "</div>"
      ],
      "text/plain": [
       "        Balanced Accuracy        Precision           Recall              F1           Kappa\n",
       "XGBoost    0.88 +/- 0.016  0.963 +/- 0.008  0.761 +/- 0.033  0.85 +/- 0.023  0.85 +/- 0.023"
      ]
     },
     "execution_count": 305,
     "metadata": {},
     "output_type": "execute_result"
    }
   ],
   "source": [
    "xgb_cv = ml_cv_results('XGBoost', XGBClassifier(),\n",
    "                       X_temp_cs, y_temp)\n",
    "xgb_cv"
   ]
  },
  {
   "cell_type": "markdown",
   "metadata": {
    "hidden": true
   },
   "source": [
    "## 7.7 LightGBM"
   ]
  },
  {
   "cell_type": "code",
   "execution_count": 306,
   "metadata": {
    "ExecuteTime": {
     "end_time": "2021-01-11T19:21:47.264120Z",
     "start_time": "2021-01-11T19:21:43.709212Z"
    },
    "hidden": true
   },
   "outputs": [],
   "source": [
    "lightgbm = LGBMClassifier()\n",
    "lightgbm.fit(X_train_cs, y_train)\n",
    "\n",
    "y_pred = lightgbm.predict(X_valid_cs)"
   ]
  },
  {
   "cell_type": "code",
   "execution_count": 307,
   "metadata": {
    "ExecuteTime": {
     "end_time": "2021-01-11T19:21:47.620836Z",
     "start_time": "2021-01-11T19:21:47.266776Z"
    },
    "hidden": true
   },
   "outputs": [
    {
     "data": {
      "text/html": [
       "<div>\n",
       "<style scoped>\n",
       "    .dataframe tbody tr th:only-of-type {\n",
       "        vertical-align: middle;\n",
       "    }\n",
       "\n",
       "    .dataframe tbody tr th {\n",
       "        vertical-align: top;\n",
       "    }\n",
       "\n",
       "    .dataframe thead th {\n",
       "        text-align: right;\n",
       "    }\n",
       "</style>\n",
       "<table border=\"1\" class=\"dataframe\">\n",
       "  <thead>\n",
       "    <tr style=\"text-align: right;\">\n",
       "      <th></th>\n",
       "      <th>Balanced Accuracy</th>\n",
       "      <th>Precision</th>\n",
       "      <th>Recall</th>\n",
       "      <th>F1</th>\n",
       "      <th>Kappa</th>\n",
       "    </tr>\n",
       "  </thead>\n",
       "  <tbody>\n",
       "    <tr>\n",
       "      <th>LightGBM</th>\n",
       "      <td>0.69</td>\n",
       "      <td>0.327</td>\n",
       "      <td>0.382</td>\n",
       "      <td>0.352</td>\n",
       "      <td>0.351</td>\n",
       "    </tr>\n",
       "  </tbody>\n",
       "</table>\n",
       "</div>"
      ],
      "text/plain": [
       "          Balanced Accuracy  Precision  Recall     F1  Kappa\n",
       "LightGBM               0.69      0.327   0.382  0.352  0.351"
      ]
     },
     "execution_count": 307,
     "metadata": {},
     "output_type": "execute_result"
    }
   ],
   "source": [
    "lightgbm_results = ml_scores('LightGBM', y_valid, y_pred)\n",
    "lightgbm_results"
   ]
  },
  {
   "cell_type": "markdown",
   "metadata": {
    "hidden": true
   },
   "source": [
    "### 7.7.1 Classification Report"
   ]
  },
  {
   "cell_type": "code",
   "execution_count": 308,
   "metadata": {
    "ExecuteTime": {
     "end_time": "2021-01-11T19:21:47.822441Z",
     "start_time": "2021-01-11T19:21:47.624065Z"
    },
    "hidden": true
   },
   "outputs": [
    {
     "name": "stdout",
     "output_type": "stream",
     "text": [
      "              precision    recall  f1-score   support\n",
      "\n",
      "           0       1.00      1.00      1.00    101671\n",
      "           1       0.33      0.38      0.35       131\n",
      "\n",
      "    accuracy                           1.00    101802\n",
      "   macro avg       0.66      0.69      0.68    101802\n",
      "weighted avg       1.00      1.00      1.00    101802\n",
      "\n"
     ]
    }
   ],
   "source": [
    "print(classification_report(y_valid, y_pred))"
   ]
  },
  {
   "cell_type": "markdown",
   "metadata": {
    "hidden": true
   },
   "source": [
    "### 7.7.2 Cross Validation"
   ]
  },
  {
   "cell_type": "code",
   "execution_count": 309,
   "metadata": {
    "ExecuteTime": {
     "end_time": "2021-01-11T19:22:05.573208Z",
     "start_time": "2021-01-11T19:21:47.824854Z"
    },
    "hidden": true
   },
   "outputs": [
    {
     "name": "stdout",
     "output_type": "stream",
     "text": [
      "Fold K=1\n",
      "Fold K=2\n",
      "Fold K=3\n",
      "Fold K=4\n",
      "Fold K=5\n"
     ]
    },
    {
     "data": {
      "text/html": [
       "<div>\n",
       "<style scoped>\n",
       "    .dataframe tbody tr th:only-of-type {\n",
       "        vertical-align: middle;\n",
       "    }\n",
       "\n",
       "    .dataframe tbody tr th {\n",
       "        vertical-align: top;\n",
       "    }\n",
       "\n",
       "    .dataframe thead th {\n",
       "        text-align: right;\n",
       "    }\n",
       "</style>\n",
       "<table border=\"1\" class=\"dataframe\">\n",
       "  <thead>\n",
       "    <tr style=\"text-align: right;\">\n",
       "      <th></th>\n",
       "      <th>Balanced Accuracy</th>\n",
       "      <th>Precision</th>\n",
       "      <th>Recall</th>\n",
       "      <th>F1</th>\n",
       "      <th>Kappa</th>\n",
       "    </tr>\n",
       "  </thead>\n",
       "  <tbody>\n",
       "    <tr>\n",
       "      <th>LightGDM</th>\n",
       "      <td>0.701 +/- 0.089</td>\n",
       "      <td>0.18 +/- 0.1</td>\n",
       "      <td>0.407 +/- 0.175</td>\n",
       "      <td>0.241 +/- 0.128</td>\n",
       "      <td>0.239 +/- 0.129</td>\n",
       "    </tr>\n",
       "  </tbody>\n",
       "</table>\n",
       "</div>"
      ],
      "text/plain": [
       "         Balanced Accuracy     Precision           Recall               F1            Kappa\n",
       "LightGDM   0.701 +/- 0.089  0.18 +/- 0.1  0.407 +/- 0.175  0.241 +/- 0.128  0.239 +/- 0.129"
      ]
     },
     "execution_count": 309,
     "metadata": {},
     "output_type": "execute_result"
    }
   ],
   "source": [
    "lightgbm_cv = ml_cv_results('LightGDM', LGBMClassifier(), \n",
    "                            X_temp_cs, y_temp)\n",
    "lightgbm_cv"
   ]
  },
  {
   "cell_type": "markdown",
   "metadata": {
    "hidden": true
   },
   "source": [
    "## 7.8 Comparing Model's Performance"
   ]
  },
  {
   "cell_type": "markdown",
   "metadata": {
    "hidden": true
   },
   "source": [
    "### 7.8.1 Single Performance"
   ]
  },
  {
   "cell_type": "code",
   "execution_count": 310,
   "metadata": {
    "ExecuteTime": {
     "end_time": "2021-01-11T19:22:05.598542Z",
     "start_time": "2021-01-11T19:22:05.575164Z"
    },
    "hidden": true
   },
   "outputs": [
    {
     "data": {
      "text/html": [
       "<div>\n",
       "<style scoped>\n",
       "    .dataframe tbody tr th:only-of-type {\n",
       "        vertical-align: middle;\n",
       "    }\n",
       "\n",
       "    .dataframe tbody tr th {\n",
       "        vertical-align: top;\n",
       "    }\n",
       "\n",
       "    .dataframe thead th {\n",
       "        text-align: right;\n",
       "    }\n",
       "</style>\n",
       "<table border=\"1\" class=\"dataframe\">\n",
       "  <thead>\n",
       "    <tr style=\"text-align: right;\">\n",
       "      <th></th>\n",
       "      <th>Balanced Accuracy</th>\n",
       "      <th>Precision</th>\n",
       "      <th>Recall</th>\n",
       "      <th>F1</th>\n",
       "      <th>Kappa</th>\n",
       "    </tr>\n",
       "  </thead>\n",
       "  <tbody>\n",
       "    <tr>\n",
       "      <th>dummy</th>\n",
       "      <td>0.499</td>\n",
       "      <td>0.000</td>\n",
       "      <td>0.000</td>\n",
       "      <td>0.000</td>\n",
       "      <td>-0.001</td>\n",
       "    </tr>\n",
       "    <tr>\n",
       "      <th>SVM</th>\n",
       "      <td>0.500</td>\n",
       "      <td>0.000</td>\n",
       "      <td>0.000</td>\n",
       "      <td>0.000</td>\n",
       "      <td>0.000</td>\n",
       "    </tr>\n",
       "    <tr>\n",
       "      <th>K Nearest Neighbors</th>\n",
       "      <td>0.565</td>\n",
       "      <td>1.000</td>\n",
       "      <td>0.130</td>\n",
       "      <td>0.230</td>\n",
       "      <td>0.230</td>\n",
       "    </tr>\n",
       "    <tr>\n",
       "      <th>Logistic Regression</th>\n",
       "      <td>0.584</td>\n",
       "      <td>1.000</td>\n",
       "      <td>0.168</td>\n",
       "      <td>0.288</td>\n",
       "      <td>0.287</td>\n",
       "    </tr>\n",
       "    <tr>\n",
       "      <th>LightGBM</th>\n",
       "      <td>0.690</td>\n",
       "      <td>0.327</td>\n",
       "      <td>0.382</td>\n",
       "      <td>0.352</td>\n",
       "      <td>0.351</td>\n",
       "    </tr>\n",
       "    <tr>\n",
       "      <th>Random Forest</th>\n",
       "      <td>0.844</td>\n",
       "      <td>0.978</td>\n",
       "      <td>0.687</td>\n",
       "      <td>0.807</td>\n",
       "      <td>0.807</td>\n",
       "    </tr>\n",
       "    <tr>\n",
       "      <th>XGBoost</th>\n",
       "      <td>0.863</td>\n",
       "      <td>0.969</td>\n",
       "      <td>0.725</td>\n",
       "      <td>0.830</td>\n",
       "      <td>0.830</td>\n",
       "    </tr>\n",
       "  </tbody>\n",
       "</table>\n",
       "</div>"
      ],
      "text/plain": [
       "                     Balanced Accuracy  Precision  Recall     F1  Kappa\n",
       "dummy                            0.499      0.000   0.000  0.000 -0.001\n",
       "SVM                              0.500      0.000   0.000  0.000  0.000\n",
       "K Nearest Neighbors              0.565      1.000   0.130  0.230  0.230\n",
       "Logistic Regression              0.584      1.000   0.168  0.288  0.287\n",
       "LightGBM                         0.690      0.327   0.382  0.352  0.351\n",
       "Random Forest                    0.844      0.978   0.687  0.807  0.807\n",
       "XGBoost                          0.863      0.969   0.725  0.830  0.830"
      ]
     },
     "execution_count": 310,
     "metadata": {},
     "output_type": "execute_result"
    }
   ],
   "source": [
    "modeling_performance = pd.concat([dummy_results, lg_results, knn_results, \n",
    "                                  rf_results, xgb_results, lightgbm_results,\n",
    "                                 svm_results])\n",
    "modeling_performance.sort_values(by=\"F1\", ascending=True)"
   ]
  },
  {
   "cell_type": "markdown",
   "metadata": {
    "hidden": true
   },
   "source": [
    "### 7.8.2 Cross Validation Performance"
   ]
  },
  {
   "cell_type": "code",
   "execution_count": 311,
   "metadata": {
    "ExecuteTime": {
     "end_time": "2021-01-11T19:22:05.627838Z",
     "start_time": "2021-01-11T19:22:05.601384Z"
    },
    "hidden": true
   },
   "outputs": [
    {
     "data": {
      "text/html": [
       "<div>\n",
       "<style scoped>\n",
       "    .dataframe tbody tr th:only-of-type {\n",
       "        vertical-align: middle;\n",
       "    }\n",
       "\n",
       "    .dataframe tbody tr th {\n",
       "        vertical-align: top;\n",
       "    }\n",
       "\n",
       "    .dataframe thead th {\n",
       "        text-align: right;\n",
       "    }\n",
       "</style>\n",
       "<table border=\"1\" class=\"dataframe\">\n",
       "  <thead>\n",
       "    <tr style=\"text-align: right;\">\n",
       "      <th></th>\n",
       "      <th>Balanced Accuracy</th>\n",
       "      <th>Precision</th>\n",
       "      <th>Recall</th>\n",
       "      <th>F1</th>\n",
       "      <th>Kappa</th>\n",
       "    </tr>\n",
       "  </thead>\n",
       "  <tbody>\n",
       "    <tr>\n",
       "      <th>Dummy</th>\n",
       "      <td>0.499 +/- 0.0</td>\n",
       "      <td>0.0 +/- 0.0</td>\n",
       "      <td>0.0 +/- 0.0</td>\n",
       "      <td>0.0 +/- 0.0</td>\n",
       "      <td>-0.001 +/- 0.0</td>\n",
       "    </tr>\n",
       "    <tr>\n",
       "      <th>Logistic Regression</th>\n",
       "      <td>0.565 +/- 0.009</td>\n",
       "      <td>1.0 +/- 0.0</td>\n",
       "      <td>0.129 +/- 0.017</td>\n",
       "      <td>0.229 +/- 0.027</td>\n",
       "      <td>0.228 +/- 0.027</td>\n",
       "    </tr>\n",
       "    <tr>\n",
       "      <th>LightGDM</th>\n",
       "      <td>0.701 +/- 0.089</td>\n",
       "      <td>0.18 +/- 0.1</td>\n",
       "      <td>0.407 +/- 0.175</td>\n",
       "      <td>0.241 +/- 0.128</td>\n",
       "      <td>0.239 +/- 0.129</td>\n",
       "    </tr>\n",
       "    <tr>\n",
       "      <th>SVM</th>\n",
       "      <td>0.595 +/- 0.013</td>\n",
       "      <td>1.0 +/- 0.0</td>\n",
       "      <td>0.19 +/- 0.026</td>\n",
       "      <td>0.319 +/- 0.037</td>\n",
       "      <td>0.319 +/- 0.037</td>\n",
       "    </tr>\n",
       "    <tr>\n",
       "      <th>K Nearest Neighbors</th>\n",
       "      <td>0.705 +/- 0.037</td>\n",
       "      <td>0.942 +/- 0.022</td>\n",
       "      <td>0.409 +/- 0.074</td>\n",
       "      <td>0.568 +/- 0.073</td>\n",
       "      <td>0.567 +/- 0.073</td>\n",
       "    </tr>\n",
       "    <tr>\n",
       "      <th>Random Forest</th>\n",
       "      <td>0.865 +/- 0.017</td>\n",
       "      <td>0.972 +/- 0.014</td>\n",
       "      <td>0.731 +/- 0.033</td>\n",
       "      <td>0.834 +/- 0.022</td>\n",
       "      <td>0.833 +/- 0.022</td>\n",
       "    </tr>\n",
       "    <tr>\n",
       "      <th>XGBoost</th>\n",
       "      <td>0.88 +/- 0.016</td>\n",
       "      <td>0.963 +/- 0.008</td>\n",
       "      <td>0.761 +/- 0.033</td>\n",
       "      <td>0.85 +/- 0.023</td>\n",
       "      <td>0.85 +/- 0.023</td>\n",
       "    </tr>\n",
       "  </tbody>\n",
       "</table>\n",
       "</div>"
      ],
      "text/plain": [
       "                    Balanced Accuracy        Precision           Recall               F1            Kappa\n",
       "Dummy                   0.499 +/- 0.0      0.0 +/- 0.0      0.0 +/- 0.0      0.0 +/- 0.0   -0.001 +/- 0.0\n",
       "Logistic Regression   0.565 +/- 0.009      1.0 +/- 0.0  0.129 +/- 0.017  0.229 +/- 0.027  0.228 +/- 0.027\n",
       "LightGDM              0.701 +/- 0.089     0.18 +/- 0.1  0.407 +/- 0.175  0.241 +/- 0.128  0.239 +/- 0.129\n",
       "SVM                   0.595 +/- 0.013      1.0 +/- 0.0   0.19 +/- 0.026  0.319 +/- 0.037  0.319 +/- 0.037\n",
       "K Nearest Neighbors   0.705 +/- 0.037  0.942 +/- 0.022  0.409 +/- 0.074  0.568 +/- 0.073  0.567 +/- 0.073\n",
       "Random Forest         0.865 +/- 0.017  0.972 +/- 0.014  0.731 +/- 0.033  0.834 +/- 0.022  0.833 +/- 0.022\n",
       "XGBoost                0.88 +/- 0.016  0.963 +/- 0.008  0.761 +/- 0.033   0.85 +/- 0.023   0.85 +/- 0.023"
      ]
     },
     "execution_count": 311,
     "metadata": {},
     "output_type": "execute_result"
    }
   ],
   "source": [
    "modeling_performance_cv = pd.concat([dummy_cv, lg_cv, knn_cv, rf_cv, \n",
    "                                     xgb_cv, lightgbm_cv, svm_cv])\n",
    "\n",
    "modeling_performance_cv.sort_values(by=\"F1\", ascending=True)"
   ]
  },
  {
   "cell_type": "markdown",
   "metadata": {
    "heading_collapsed": true
   },
   "source": [
    "# 8.0 Hyperparameter Fine Tuning"
   ]
  },
  {
   "cell_type": "code",
   "execution_count": 312,
   "metadata": {
    "ExecuteTime": {
     "end_time": "2021-01-11T19:22:05.640133Z",
     "start_time": "2021-01-11T19:22:05.633309Z"
    },
    "hidden": true
   },
   "outputs": [],
   "source": [
    "f1 = make_scorer(f1_score)"
   ]
  },
  {
   "cell_type": "code",
   "execution_count": 313,
   "metadata": {
    "ExecuteTime": {
     "end_time": "2021-01-11T19:22:05.653525Z",
     "start_time": "2021-01-11T19:22:05.644570Z"
    },
    "hidden": true
   },
   "outputs": [],
   "source": [
    "params = {\n",
    "    'booster': ['gbtree', 'gblinear', 'dart'],\n",
    "    'eta': [0.3, 0.1, 0.01],\n",
    "    'scale_pos_weight': [1, 774, 508, 99]\n",
    "}"
   ]
  },
  {
   "cell_type": "code",
   "execution_count": 315,
   "metadata": {
    "ExecuteTime": {
     "end_time": "2021-01-11T20:55:31.693518Z",
     "start_time": "2021-01-11T19:25:06.941400Z"
    },
    "hidden": true
   },
   "outputs": [
    {
     "data": {
      "text/plain": [
       "GridSearchCV(cv=StratifiedKFold(n_splits=5, random_state=None, shuffle=False),\n",
       "             estimator=XGBClassifier(base_score=None, booster=None,\n",
       "                                     colsample_bylevel=None,\n",
       "                                     colsample_bynode=None,\n",
       "                                     colsample_bytree=None, gamma=None,\n",
       "                                     gpu_id=None, importance_type='gain',\n",
       "                                     interaction_constraints=None,\n",
       "                                     learning_rate=None, max_delta_step=None,\n",
       "                                     max_depth=None, min_child_weight=None,\n",
       "                                     mis...constraints=None,\n",
       "                                     n_estimators=100, n_jobs=None,\n",
       "                                     num_parallel_tree=None, random_state=None,\n",
       "                                     reg_alpha=None, reg_lambda=None,\n",
       "                                     scale_pos_weight=None, subsample=None,\n",
       "                                     tree_method=None, validate_parameters=None,\n",
       "                                     verbosity=None),\n",
       "             param_grid={'booster': ['gbtree', 'gblinear', 'dart'],\n",
       "                         'eta': [0.3, 0.1, 0.01],\n",
       "                         'scale_pos_weight': [1, 774, 508, 99]},\n",
       "             scoring=make_scorer(f1_score))"
      ]
     },
     "execution_count": 315,
     "metadata": {},
     "output_type": "execute_result"
    }
   ],
   "source": [
    "gs = GridSearchCV(XGBClassifier(), \n",
    "                  param_grid=params, \n",
    "                  scoring=f1, \n",
    "                  cv=StratifiedKFold(n_splits=5))\n",
    "\n",
    "gs.fit(X_params_cs, y_temp)"
   ]
  },
  {
   "cell_type": "code",
   "execution_count": 316,
   "metadata": {
    "ExecuteTime": {
     "end_time": "2021-01-11T20:55:31.706511Z",
     "start_time": "2021-01-11T20:55:31.695941Z"
    },
    "hidden": true
   },
   "outputs": [
    {
     "data": {
      "text/plain": [
       "{'booster': 'gbtree', 'eta': 0.3, 'scale_pos_weight': 1}"
      ]
     },
     "execution_count": 316,
     "metadata": {},
     "output_type": "execute_result"
    }
   ],
   "source": [
    "best_params = gs.best_params_\n",
    "best_params"
   ]
  },
  {
   "cell_type": "code",
   "execution_count": 317,
   "metadata": {
    "ExecuteTime": {
     "end_time": "2021-01-11T20:55:31.712716Z",
     "start_time": "2021-01-11T20:55:31.709317Z"
    },
    "hidden": true
   },
   "outputs": [],
   "source": [
    "best_params = {'booster': 'gbtree', 'eta': 0.3, 'scale_pos_weight': 1}"
   ]
  },
  {
   "cell_type": "code",
   "execution_count": 318,
   "metadata": {
    "ExecuteTime": {
     "end_time": "2021-01-11T20:55:31.720495Z",
     "start_time": "2021-01-11T20:55:31.715238Z"
    },
    "hidden": true
   },
   "outputs": [
    {
     "data": {
      "text/plain": [
       "0.864172533896524"
      ]
     },
     "execution_count": 318,
     "metadata": {},
     "output_type": "execute_result"
    }
   ],
   "source": [
    "gs.best_score_"
   ]
  },
  {
   "cell_type": "markdown",
   "metadata": {
    "hidden": true
   },
   "source": [
    "## 8.1 Results"
   ]
  },
  {
   "cell_type": "code",
   "execution_count": 319,
   "metadata": {
    "ExecuteTime": {
     "end_time": "2021-01-11T20:55:31.724999Z",
     "start_time": "2021-01-11T20:55:31.722348Z"
    },
    "hidden": true
   },
   "outputs": [],
   "source": [
    "xgb_gs = XGBClassifier(\n",
    "    booster=best_params['booster'],\n",
    "    eta=best_params['eta'],\n",
    "    scale_pos_weight=best_params['scale_pos_weight']\n",
    ")"
   ]
  },
  {
   "cell_type": "code",
   "execution_count": 320,
   "metadata": {
    "ExecuteTime": {
     "end_time": "2021-01-11T20:55:52.745584Z",
     "start_time": "2021-01-11T20:55:31.726949Z"
    },
    "hidden": true
   },
   "outputs": [
    {
     "data": {
      "text/plain": [
       "XGBClassifier(base_score=0.5, booster='gbtree', colsample_bylevel=1,\n",
       "              colsample_bynode=1, colsample_bytree=1, eta=0.3, gamma=0,\n",
       "              gpu_id=-1, importance_type='gain', interaction_constraints='',\n",
       "              learning_rate=0.300000012, max_delta_step=0, max_depth=6,\n",
       "              min_child_weight=1, missing=nan, monotone_constraints='()',\n",
       "              n_estimators=100, n_jobs=0, num_parallel_tree=1, random_state=0,\n",
       "              reg_alpha=0, reg_lambda=1, scale_pos_weight=1, subsample=1,\n",
       "              tree_method='exact', validate_parameters=1, verbosity=None)"
      ]
     },
     "execution_count": 320,
     "metadata": {},
     "output_type": "execute_result"
    }
   ],
   "source": [
    "xgb_gs.fit(X_train_cs, y_train)"
   ]
  },
  {
   "cell_type": "code",
   "execution_count": 321,
   "metadata": {
    "ExecuteTime": {
     "end_time": "2021-01-11T20:55:53.028663Z",
     "start_time": "2021-01-11T20:55:52.747809Z"
    },
    "hidden": true
   },
   "outputs": [],
   "source": [
    "y_pred = xgb_gs.predict(X_valid_cs)"
   ]
  },
  {
   "cell_type": "markdown",
   "metadata": {
    "hidden": true
   },
   "source": [
    "### 8.1.2 Single Results"
   ]
  },
  {
   "cell_type": "code",
   "execution_count": 322,
   "metadata": {
    "ExecuteTime": {
     "end_time": "2021-01-11T20:56:13.792056Z",
     "start_time": "2021-01-11T20:56:13.507732Z"
    },
    "hidden": true
   },
   "outputs": [
    {
     "data": {
      "text/html": [
       "<div>\n",
       "<style scoped>\n",
       "    .dataframe tbody tr th:only-of-type {\n",
       "        vertical-align: middle;\n",
       "    }\n",
       "\n",
       "    .dataframe tbody tr th {\n",
       "        vertical-align: top;\n",
       "    }\n",
       "\n",
       "    .dataframe thead th {\n",
       "        text-align: right;\n",
       "    }\n",
       "</style>\n",
       "<table border=\"1\" class=\"dataframe\">\n",
       "  <thead>\n",
       "    <tr style=\"text-align: right;\">\n",
       "      <th></th>\n",
       "      <th>Balanced Accuracy</th>\n",
       "      <th>Precision</th>\n",
       "      <th>Recall</th>\n",
       "      <th>F1</th>\n",
       "      <th>Kappa</th>\n",
       "    </tr>\n",
       "  </thead>\n",
       "  <tbody>\n",
       "    <tr>\n",
       "      <th>XGBoost GS</th>\n",
       "      <td>0.863</td>\n",
       "      <td>0.969</td>\n",
       "      <td>0.725</td>\n",
       "      <td>0.83</td>\n",
       "      <td>0.83</td>\n",
       "    </tr>\n",
       "  </tbody>\n",
       "</table>\n",
       "</div>"
      ],
      "text/plain": [
       "            Balanced Accuracy  Precision  Recall    F1  Kappa\n",
       "XGBoost GS              0.863      0.969   0.725  0.83   0.83"
      ]
     },
     "execution_count": 322,
     "metadata": {},
     "output_type": "execute_result"
    }
   ],
   "source": [
    "xgb_gs_results = ml_scores('XGBoost GS', y_valid, y_pred)\n",
    "xgb_gs_results"
   ]
  },
  {
   "cell_type": "markdown",
   "metadata": {
    "hidden": true
   },
   "source": [
    "### 8.1.3 Cross Validation"
   ]
  },
  {
   "cell_type": "code",
   "execution_count": 323,
   "metadata": {
    "ExecuteTime": {
     "end_time": "2021-01-11T20:58:41.339028Z",
     "start_time": "2021-01-11T20:56:15.338989Z"
    },
    "hidden": true
   },
   "outputs": [
    {
     "name": "stdout",
     "output_type": "stream",
     "text": [
      "Fold K=1\n",
      "Fold K=2\n",
      "Fold K=3\n",
      "Fold K=4\n",
      "Fold K=5\n"
     ]
    },
    {
     "data": {
      "text/html": [
       "<div>\n",
       "<style scoped>\n",
       "    .dataframe tbody tr th:only-of-type {\n",
       "        vertical-align: middle;\n",
       "    }\n",
       "\n",
       "    .dataframe tbody tr th {\n",
       "        vertical-align: top;\n",
       "    }\n",
       "\n",
       "    .dataframe thead th {\n",
       "        text-align: right;\n",
       "    }\n",
       "</style>\n",
       "<table border=\"1\" class=\"dataframe\">\n",
       "  <thead>\n",
       "    <tr style=\"text-align: right;\">\n",
       "      <th></th>\n",
       "      <th>Balanced Accuracy</th>\n",
       "      <th>Precision</th>\n",
       "      <th>Recall</th>\n",
       "      <th>F1</th>\n",
       "      <th>Kappa</th>\n",
       "    </tr>\n",
       "  </thead>\n",
       "  <tbody>\n",
       "    <tr>\n",
       "      <th>XGBoost GS</th>\n",
       "      <td>0.881 +/- 0.017</td>\n",
       "      <td>0.963 +/- 0.007</td>\n",
       "      <td>0.763 +/- 0.035</td>\n",
       "      <td>0.851 +/- 0.023</td>\n",
       "      <td>0.851 +/- 0.023</td>\n",
       "    </tr>\n",
       "  </tbody>\n",
       "</table>\n",
       "</div>"
      ],
      "text/plain": [
       "           Balanced Accuracy        Precision           Recall               F1            Kappa\n",
       "XGBoost GS   0.881 +/- 0.017  0.963 +/- 0.007  0.763 +/- 0.035  0.851 +/- 0.023  0.851 +/- 0.023"
      ]
     },
     "execution_count": 323,
     "metadata": {},
     "output_type": "execute_result"
    }
   ],
   "source": [
    "xgb_gs_cv = ml_cv_results('XGBoost GS', xgb_gs, X_temp_cs, y_temp)\n",
    "xgb_gs_cv"
   ]
  },
  {
   "cell_type": "markdown",
   "metadata": {
    "heading_collapsed": true
   },
   "source": [
    "# 9.0 Conclusions "
   ]
  },
  {
   "cell_type": "markdown",
   "metadata": {
    "hidden": true
   },
   "source": [
    "## 9.1 Final Model"
   ]
  },
  {
   "cell_type": "code",
   "execution_count": 324,
   "metadata": {
    "ExecuteTime": {
     "end_time": "2021-01-11T21:04:19.379185Z",
     "start_time": "2021-01-11T21:03:46.423881Z"
    },
    "hidden": true
   },
   "outputs": [
    {
     "data": {
      "text/plain": [
       "XGBClassifier(base_score=0.5, booster='gbtree', colsample_bylevel=1,\n",
       "              colsample_bynode=1, colsample_bytree=1, eta=0.3, gamma=0,\n",
       "              gpu_id=-1, importance_type='gain', interaction_constraints='',\n",
       "              learning_rate=0.300000012, max_delta_step=0, max_depth=6,\n",
       "              min_child_weight=1, missing=nan, monotone_constraints='()',\n",
       "              n_estimators=100, n_jobs=0, num_parallel_tree=1, random_state=0,\n",
       "              reg_alpha=0, reg_lambda=1, scale_pos_weight=1, subsample=1,\n",
       "              tree_method='exact', validate_parameters=1, verbosity=None)"
      ]
     },
     "execution_count": 324,
     "metadata": {},
     "output_type": "execute_result"
    }
   ],
   "source": [
    "final_model = XGBClassifier(\n",
    "    booster=best_params['booster'],\n",
    "    eta=best_params['eta'],\n",
    "    scale_pos_weight=best_params['scale_pos_weight']\n",
    ")\n",
    "\n",
    "final_model.fit(X_params_cs, y_temp)"
   ]
  },
  {
   "cell_type": "markdown",
   "metadata": {
    "hidden": true
   },
   "source": [
    "### 9.1.1 Unseen Data Score"
   ]
  },
  {
   "cell_type": "code",
   "execution_count": 325,
   "metadata": {
    "ExecuteTime": {
     "end_time": "2021-01-11T21:04:19.721539Z",
     "start_time": "2021-01-11T21:04:19.391316Z"
    },
    "hidden": true
   },
   "outputs": [],
   "source": [
    "y_pred = final_model.predict(X_test_cs)"
   ]
  },
  {
   "cell_type": "code",
   "execution_count": 326,
   "metadata": {
    "ExecuteTime": {
     "end_time": "2021-01-11T21:04:20.158624Z",
     "start_time": "2021-01-11T21:04:19.723764Z"
    },
    "hidden": true
   },
   "outputs": [
    {
     "data": {
      "text/html": [
       "<div>\n",
       "<style scoped>\n",
       "    .dataframe tbody tr th:only-of-type {\n",
       "        vertical-align: middle;\n",
       "    }\n",
       "\n",
       "    .dataframe tbody tr th {\n",
       "        vertical-align: top;\n",
       "    }\n",
       "\n",
       "    .dataframe thead th {\n",
       "        text-align: right;\n",
       "    }\n",
       "</style>\n",
       "<table border=\"1\" class=\"dataframe\">\n",
       "  <thead>\n",
       "    <tr style=\"text-align: right;\">\n",
       "      <th></th>\n",
       "      <th>Balanced Accuracy</th>\n",
       "      <th>Precision</th>\n",
       "      <th>Recall</th>\n",
       "      <th>F1</th>\n",
       "      <th>Kappa</th>\n",
       "    </tr>\n",
       "  </thead>\n",
       "  <tbody>\n",
       "    <tr>\n",
       "      <th>unseen</th>\n",
       "      <td>0.915</td>\n",
       "      <td>0.944</td>\n",
       "      <td>0.829</td>\n",
       "      <td>0.883</td>\n",
       "      <td>0.883</td>\n",
       "    </tr>\n",
       "  </tbody>\n",
       "</table>\n",
       "</div>"
      ],
      "text/plain": [
       "        Balanced Accuracy  Precision  Recall     F1  Kappa\n",
       "unseen              0.915      0.944   0.829  0.883  0.883"
      ]
     },
     "execution_count": 326,
     "metadata": {},
     "output_type": "execute_result"
    }
   ],
   "source": [
    "unseen_scores = ml_scores('unseen', y_test, y_pred)\n",
    "unseen_scores"
   ]
  },
  {
   "cell_type": "markdown",
   "metadata": {
    "hidden": true
   },
   "source": [
    "## 9.2 Blocker Fraud Company Expasion"
   ]
  },
  {
   "cell_type": "markdown",
   "metadata": {
    "hidden": true
   },
   "source": [
    "### 9.2.1 The company receives 25% of each transaction value truly detected as fraud."
   ]
  },
  {
   "cell_type": "code",
   "execution_count": 327,
   "metadata": {
    "ExecuteTime": {
     "end_time": "2021-01-11T21:04:20.217495Z",
     "start_time": "2021-01-11T21:04:20.160741Z"
    },
    "hidden": true
   },
   "outputs": [],
   "source": [
    "df_test = df5.loc[X_test.index, :]\n",
    "df_test['predictions'] = y_pred"
   ]
  },
  {
   "cell_type": "code",
   "execution_count": 328,
   "metadata": {
    "ExecuteTime": {
     "end_time": "2021-01-11T21:04:20.250683Z",
     "start_time": "2021-01-11T21:04:20.219574Z"
    },
    "hidden": true
   },
   "outputs": [],
   "source": [
    "aux1 = df_test[(df_test['is_fraud'] == 'yes') & (df_test['predictions'] == 1)]\n",
    "receives = aux1['amount'].sum() * 0.25"
   ]
  },
  {
   "cell_type": "code",
   "execution_count": 329,
   "metadata": {
    "ExecuteTime": {
     "end_time": "2021-01-11T21:04:20.258680Z",
     "start_time": "2021-01-11T21:04:20.252971Z"
    },
    "hidden": true
   },
   "outputs": [
    {
     "name": "stdout",
     "output_type": "stream",
     "text": [
      "The company can receive 60613782.88 detecting fraud transactions.\n"
     ]
    }
   ],
   "source": [
    "print('The company can receive %.2f detecting fraud transactions.' % (receives))"
   ]
  },
  {
   "cell_type": "markdown",
   "metadata": {
    "hidden": true
   },
   "source": [
    "### 9.2.2 The company receives 5% of each transaction value detected as fraud, however the transaction is legitimate."
   ]
  },
  {
   "cell_type": "code",
   "execution_count": 330,
   "metadata": {
    "ExecuteTime": {
     "end_time": "2021-01-11T21:04:20.278116Z",
     "start_time": "2021-01-11T21:04:20.261386Z"
    },
    "hidden": true
   },
   "outputs": [
    {
     "name": "stdout",
     "output_type": "stream",
     "text": [
      "For wrong decisions, the company can receive 183866.98.\n"
     ]
    }
   ],
   "source": [
    "aux1 = df_test[(df_test['is_fraud'] == 'no') & (df_test['predictions'] == 1)]\n",
    "receives = aux1['amount'].sum() * 0.05\n",
    "\n",
    "print('For wrong decisions, the company can receive %.2f.' % (receives))"
   ]
  },
  {
   "cell_type": "markdown",
   "metadata": {
    "hidden": true
   },
   "source": [
    "### 9.2.3 The company gives back 100% of the value for the customer in each transaction detected as legitimate, however the transaction is actually a fraud."
   ]
  },
  {
   "cell_type": "code",
   "execution_count": 331,
   "metadata": {
    "ExecuteTime": {
     "end_time": "2021-01-11T21:04:20.297204Z",
     "start_time": "2021-01-11T21:04:20.281709Z"
    },
    "hidden": true
   },
   "outputs": [
    {
     "name": "stdout",
     "output_type": "stream",
     "text": [
      "However, the company must return the amount of 3546075.42.\n"
     ]
    }
   ],
   "source": [
    "aux1 = df_test[(df_test['is_fraud'] == 'yes') & (df_test['predictions'] == 0)]\n",
    "receives = aux1['amount'].sum()\n",
    "\n",
    "print('However, the company must return the amount of %.2f.' % (receives))"
   ]
  },
  {
   "cell_type": "markdown",
   "metadata": {
    "hidden": true
   },
   "source": [
    "## 9.3 Model's Performance"
   ]
  },
  {
   "cell_type": "markdown",
   "metadata": {
    "hidden": true
   },
   "source": [
    "### 9.3.1 What is the model's Precision and Accuracy?"
   ]
  },
  {
   "cell_type": "code",
   "execution_count": 332,
   "metadata": {
    "ExecuteTime": {
     "end_time": "2021-01-11T21:04:20.305075Z",
     "start_time": "2021-01-11T21:04:20.300099Z"
    },
    "hidden": true
   },
   "outputs": [
    {
     "name": "stdout",
     "output_type": "stream",
     "text": [
      "For unseen data, the values of balanced accuracy is equal 0.92 and precision is equal 0.94.\n"
     ]
    }
   ],
   "source": [
    "print('For unseen data, the values of balanced accuracy is equal %.2f and precision is equal %.2f.' % (unseen_scores['Balanced Accuracy'], unseen_scores['Precision']))"
   ]
  },
  {
   "cell_type": "markdown",
   "metadata": {
    "hidden": true
   },
   "source": [
    "### 9.3.2 How reliable is the model in classifying transactions as legitimate or fraudulent?"
   ]
  },
  {
   "cell_type": "code",
   "execution_count": 340,
   "metadata": {
    "ExecuteTime": {
     "end_time": "2021-01-11T21:05:16.886043Z",
     "start_time": "2021-01-11T21:05:16.881350Z"
    },
    "hidden": true
   },
   "outputs": [
    {
     "name": "stdout",
     "output_type": "stream",
     "text": [
      "The model can detect 0.851 +/- 0.023 of the fraud. However it detected 0.84 of the frauds from a unseen data.\n"
     ]
    }
   ],
   "source": [
    "print('The model can detect 0.851 +/- 0.023 of the fraud. However it detected 0.84 of the frauds from a unseen data.')"
   ]
  },
  {
   "cell_type": "markdown",
   "metadata": {
    "hidden": true
   },
   "source": [
    "### 9.3.3 What is the revenue expected by the company  classify 100% of transactions with the model?"
   ]
  },
  {
   "cell_type": "code",
   "execution_count": 334,
   "metadata": {
    "ExecuteTime": {
     "end_time": "2021-01-11T21:04:20.372277Z",
     "start_time": "2021-01-11T21:04:20.316349Z"
    },
    "hidden": true
   },
   "outputs": [
    {
     "name": "stdout",
     "output_type": "stream",
     "text": [
      "Using the model the company can revenue 60797649.86.\n"
     ]
    }
   ],
   "source": [
    "aux1 = df_test[(df_test['is_fraud'] == 'yes') & (df_test['predictions'] == 1)]\n",
    "receives = aux1['amount'].sum() * 0.25\n",
    "\n",
    "aux2 = df_test[(df_test['is_fraud'] == 'no') & (df_test['predictions'] == 1)]\n",
    "receives2 = aux2['amount'].sum() * 0.05\n",
    "\n",
    "print('Using the model the company can revenue %.2f.' % (receives + receives2))"
   ]
  },
  {
   "cell_type": "code",
   "execution_count": 335,
   "metadata": {
    "ExecuteTime": {
     "end_time": "2021-01-11T21:04:20.423598Z",
     "start_time": "2021-01-11T21:04:20.376776Z"
    },
    "hidden": true
   },
   "outputs": [
    {
     "name": "stdout",
     "output_type": "stream",
     "text": [
      "However the currently method the revenue is 0.00.\n"
     ]
    }
   ],
   "source": [
    "aux3 = df_test[(df_test['is_fraud'] == 'yes') & (df_test['is_flagged_fraud'] == 'yes')]\n",
    "curr_receives = aux3['amount'].sum() * 0.25\n",
    "\n",
    "aux4 = df_test[(df_test['is_fraud'] == 'no') & (df_test['is_flagged_fraud'] == 'yes')]\n",
    "curr_receives2 = aux4['amount'].sum() * 0.05\n",
    "\n",
    "print('However the currently method the revenue is %.2f.' % (curr_receives + curr_receives2))"
   ]
  },
  {
   "cell_type": "markdown",
   "metadata": {
    "hidden": true
   },
   "source": [
    "### 9.3.4 What is the loss expected by the Company if it classifies 100% of the transactions with the model?"
   ]
  },
  {
   "cell_type": "code",
   "execution_count": 336,
   "metadata": {
    "ExecuteTime": {
     "end_time": "2021-01-11T21:04:20.460738Z",
     "start_time": "2021-01-11T21:04:20.428461Z"
    },
    "hidden": true
   },
   "outputs": [
    {
     "name": "stdout",
     "output_type": "stream",
     "text": [
      "For wrong classifications the company must return the amount of 3546075.42.\n"
     ]
    }
   ],
   "source": [
    "aux1 = df_test[(df_test['is_fraud'] == 'yes') & (df_test['predictions'] == 0)]\n",
    "loss = aux1['amount'].sum()\n",
    "\n",
    "print('For wrong classifications the company must return the amount of %.2f.' % (loss))"
   ]
  },
  {
   "cell_type": "code",
   "execution_count": 337,
   "metadata": {
    "ExecuteTime": {
     "end_time": "2021-01-11T21:04:20.524063Z",
     "start_time": "2021-01-11T21:04:20.463672Z"
    },
    "hidden": true
   },
   "outputs": [
    {
     "name": "stdout",
     "output_type": "stream",
     "text": [
      "For wrong classifications using the currently method, the company must return the amount of 246001206.94.\n"
     ]
    }
   ],
   "source": [
    "aux1 = df_test[(df_test['is_fraud'] == 'yes') & (df_test['is_flagged_fraud'] == 'no')]\n",
    "curr_loss = aux1['amount'].sum()\n",
    "\n",
    "print('For wrong classifications using the currently method, the company must return the amount of %.2f.' % (curr_loss))"
   ]
  },
  {
   "cell_type": "markdown",
   "metadata": {
    "hidden": true
   },
   "source": [
    "### 9.3.5 What is the profit expected by the blocker fraud company when using the model?"
   ]
  },
  {
   "cell_type": "code",
   "execution_count": 338,
   "metadata": {
    "ExecuteTime": {
     "end_time": "2021-01-11T21:04:20.539074Z",
     "start_time": "2021-01-11T21:04:20.528161Z"
    },
    "hidden": true
   },
   "outputs": [
    {
     "name": "stdout",
     "output_type": "stream",
     "text": [
      "The company can expect the profit of 57251574.44.\n"
     ]
    }
   ],
   "source": [
    "print('The company can expect the profit of %.2f.' % (receives + receives2 - loss))"
   ]
  },
  {
   "cell_type": "code",
   "execution_count": 339,
   "metadata": {
    "ExecuteTime": {
     "end_time": "2021-01-11T21:04:20.550429Z",
     "start_time": "2021-01-11T21:04:20.543382Z"
    },
    "hidden": true
   },
   "outputs": [
    {
     "name": "stdout",
     "output_type": "stream",
     "text": [
      "Using the currently method, the profit is -246001206.94.\n"
     ]
    }
   ],
   "source": [
    "print('Using the currently method, the profit is %.2f.' % (curr_receives + curr_receives - curr_loss))"
   ]
  },
  {
   "cell_type": "markdown",
   "metadata": {
    "heading_collapsed": true
   },
   "source": [
    "# 10.0 Model Deploy"
   ]
  },
  {
   "cell_type": "markdown",
   "metadata": {
    "hidden": true
   },
   "source": [
    "## 10.1 Saving"
   ]
  },
  {
   "cell_type": "code",
   "execution_count": 341,
   "metadata": {
    "ExecuteTime": {
     "end_time": "2021-01-11T21:05:56.929387Z",
     "start_time": "2021-01-11T21:05:24.082949Z"
    },
    "hidden": true
   },
   "outputs": [
    {
     "data": {
      "text/plain": [
       "['../models/model_cycle1.joblib']"
      ]
     },
     "execution_count": 341,
     "metadata": {},
     "output_type": "execute_result"
    }
   ],
   "source": [
    "final_model = XGBClassifier(\n",
    "    booster=best_params['booster'],\n",
    "    eta=best_params['eta'],\n",
    "    scale_pos_weight=best_params['scale_pos_weight']\n",
    ")\n",
    "\n",
    "final_model.fit(X_params_cs, y_temp)\n",
    "\n",
    "joblib.dump(final_model, '../models/model_cycle1.joblib')"
   ]
  },
  {
   "cell_type": "code",
   "execution_count": 342,
   "metadata": {
    "ExecuteTime": {
     "end_time": "2021-01-11T21:05:56.967807Z",
     "start_time": "2021-01-11T21:05:56.931583Z"
    },
    "hidden": true
   },
   "outputs": [
    {
     "data": {
      "text/plain": [
       "['../parameters/minmaxscaler_cycle1.joblib']"
      ]
     },
     "execution_count": 342,
     "metadata": {},
     "output_type": "execute_result"
    }
   ],
   "source": [
    "mm = MinMaxScaler()\n",
    "mm.fit(X_params_cs, y_temp)\n",
    "\n",
    "joblib.dump(mm, '../parameters/minmaxscaler_cycle1.joblib')"
   ]
  },
  {
   "cell_type": "code",
   "execution_count": 352,
   "metadata": {
    "ExecuteTime": {
     "end_time": "2021-01-11T21:08:49.293823Z",
     "start_time": "2021-01-11T21:08:49.286026Z"
    },
    "hidden": true
   },
   "outputs": [
    {
     "data": {
      "text/plain": [
       "['../parameters/onehotencoder_cycle1.joblib']"
      ]
     },
     "execution_count": 352,
     "metadata": {},
     "output_type": "execute_result"
    }
   ],
   "source": [
    "joblib.dump(ohe, '../parameters/onehotencoder_cycle1.joblib')"
   ]
  },
  {
   "cell_type": "markdown",
   "metadata": {
    "hidden": true
   },
   "source": [
    "## 10.2 Fraud Class"
   ]
  },
  {
   "cell_type": "code",
   "execution_count": 353,
   "metadata": {
    "ExecuteTime": {
     "end_time": "2021-01-11T21:08:52.576698Z",
     "start_time": "2021-01-11T21:08:52.566166Z"
    },
    "hidden": true
   },
   "outputs": [],
   "source": [
    "import joblib\n",
    "import inflection\n",
    "import pandas as pd\n",
    "\n",
    "class Fraud:\n",
    "    \n",
    "    def __init__(self):\n",
    "        self.minmaxscaler = joblib.load('../parameters/minmaxscaler_cycle1.joblib')\n",
    "        self.onehotencoder = joblib.load('../parameters/onehotencoder_cycle1.joblib')\n",
    "        \n",
    "    def data_cleaning(self, df1):\n",
    "        cols_old = df1.columns.tolist()\n",
    "        \n",
    "        snakecase = lambda i: inflection.underscore(i)\n",
    "        cols_new = list(map(snakecase, cols_old))\n",
    "        \n",
    "        df1.columns = cols_new\n",
    "        \n",
    "        return df1\n",
    "    \n",
    "    def feature_engineering(self, df2):\n",
    "        # step\n",
    "        df2['step_days'] = df2['step'].apply(lambda i: i/24)\n",
    "        df2['step_weeks'] = df2['step'].apply(lambda i: i/(24*7))\n",
    "\n",
    "        # difference between initial balance before the transaction and new balance after the transaction\n",
    "        df2['diff_new_old_balance'] = df2['newbalance_orig'] - df2['oldbalance_org']\n",
    "\n",
    "        # difference between initial balance recipient before the transaction and new balance recipient after the transaction.\n",
    "        df2['diff_new_old_destiny'] = df2['newbalance_dest'] - df2['oldbalance_dest']\n",
    "\n",
    "        # name orig and name dest\n",
    "        df2['name_orig'] = df2['name_orig'].apply(lambda i: i[0])\n",
    "        df2['name_dest'] = df2['name_dest'].apply(lambda i: i[0])\n",
    "        \n",
    "        return df2.drop(columns=['name_orig', 'name_dest', 'step_weeks', 'step_days'], axis=1)\n",
    "    \n",
    "    def data_preparation(self, df3):\n",
    "        # One Hot Encoding\n",
    "        df3 = pd.get_dummies(df3)\n",
    "        \n",
    "        # Rescaling \n",
    "        num_columns = ['amount', 'oldbalance_org', 'newbalance_orig', 'oldbalance_dest', \n",
    "                       'newbalance_dest', 'diff_new_old_balance', 'diff_new_old_destiny']\n",
    "        df3[num_columns] = self.minmaxscaler.transform(df3[num_columns])\n",
    "        \n",
    "        # OneHotEncoder\n",
    "        df3 = self.onehotencoder.transform(df3)\n",
    "        \n",
    "        # selected columns\n",
    "        final_columns_selected = ['step', 'oldbalance_org', 'newbalance_orig', 'newbalance_dest', \n",
    "                                  'diff_new_old_balance', 'diff_new_old_destiny', 'type_TRANSFER']\n",
    "        return df3[final_columns_selected]\n",
    "    \n",
    "    def get_prediction(self, model, original_data, test_data):\n",
    "        pred = model.predict(test_data)\n",
    "        original_data['prediction'] = pred\n",
    "        \n",
    "        return original_data.to_json(orient=\"records\", date_format=\"iso\")"
   ]
  },
  {
   "cell_type": "markdown",
   "metadata": {
    "hidden": true
   },
   "source": [
    "## 10.3 API Handler"
   ]
  },
  {
   "cell_type": "code",
   "execution_count": 354,
   "metadata": {
    "ExecuteTime": {
     "end_time": "2021-01-11T21:08:53.901515Z",
     "start_time": "2021-01-11T21:08:53.881407Z"
    },
    "hidden": true
   },
   "outputs": [
    {
     "ename": "ModuleNotFoundError",
     "evalue": "No module named 'churn'",
     "output_type": "error",
     "traceback": [
      "\u001b[0;31m---------------------------------------------------------------------------\u001b[0m",
      "\u001b[0;31mModuleNotFoundError\u001b[0m                       Traceback (most recent call last)",
      "\u001b[0;32m<ipython-input-354-b54483709a9f>\u001b[0m in \u001b[0;36m<module>\u001b[0;34m\u001b[0m\n\u001b[1;32m      1\u001b[0m \u001b[0;32mimport\u001b[0m \u001b[0mjoblib\u001b[0m\u001b[0;34m\u001b[0m\u001b[0;34m\u001b[0m\u001b[0m\n\u001b[1;32m      2\u001b[0m \u001b[0;32mimport\u001b[0m \u001b[0mpandas\u001b[0m \u001b[0;32mas\u001b[0m \u001b[0mpd\u001b[0m\u001b[0;34m\u001b[0m\u001b[0;34m\u001b[0m\u001b[0m\n\u001b[0;32m----> 3\u001b[0;31m \u001b[0;32mfrom\u001b[0m \u001b[0mchurn\u001b[0m\u001b[0;34m.\u001b[0m\u001b[0mChurn\u001b[0m \u001b[0;32mimport\u001b[0m \u001b[0mChurn\u001b[0m\u001b[0;34m\u001b[0m\u001b[0;34m\u001b[0m\u001b[0m\n\u001b[0m\u001b[1;32m      4\u001b[0m \u001b[0;32mfrom\u001b[0m \u001b[0mflask\u001b[0m \u001b[0;32mimport\u001b[0m \u001b[0mFlask\u001b[0m\u001b[0;34m,\u001b[0m \u001b[0mrequest\u001b[0m\u001b[0;34m,\u001b[0m \u001b[0mResponse\u001b[0m\u001b[0;34m\u001b[0m\u001b[0;34m\u001b[0m\u001b[0m\n\u001b[1;32m      5\u001b[0m \u001b[0;34m\u001b[0m\u001b[0m\n",
      "\u001b[0;31mModuleNotFoundError\u001b[0m: No module named 'churn'"
     ]
    }
   ],
   "source": [
    "import joblib\n",
    "import pandas as pd\n",
    "from churn.Churn import Churn\n",
    "from flask import Flask, request, Response\n",
    "\n",
    "# loading model\n",
    "model = joblib.load('../models/model_cycle1.joblib')\n",
    "\n",
    "# initialize API\n",
    "app = Flask(__name__)\n",
    "\n",
    "@app.route('/fraud/predict', methods=['POST'])\n",
    "def churn_predict():\n",
    "    test_json = request.get_json()\n",
    "   \n",
    "    if test_json: # there is data\n",
    "        if isinstance(test_json, dict): # unique example\n",
    "            test_raw = pd.DataFrame(test_json, index=[0])\n",
    "            \n",
    "        else: # multiple example\n",
    "            test_raw = pd.DataFrame(test_json, columns=test_json[0].keys())\n",
    "            \n",
    "        # Instantiate Rossmann class\n",
    "        pipeline = Fraud()\n",
    "        \n",
    "        # data cleaning\n",
    "        df1 = pipeline.data_cleaning(test_raw)\n",
    "        \n",
    "        # feature engineering\n",
    "        df2 = pipeline.feature_engineering(df1)\n",
    "        \n",
    "        # data preparation\n",
    "        df3 = pipeline.data_preparation(df2)\n",
    "        \n",
    "        # prediction\n",
    "        df_response = pipeline.get_prediction(model, test_raw, df3)\n",
    "        \n",
    "        return df_response\n",
    "        \n",
    "        \n",
    "    else:\n",
    "        return Reponse('{}', status=200, mimetype='application/json')\n",
    "\n",
    "if __name__ == '__main__':\n",
    "    app.run('0.0.0.0')"
   ]
  },
  {
   "cell_type": "markdown",
   "metadata": {
    "hidden": true
   },
   "source": [
    "## 10.4 API Tester"
   ]
  },
  {
   "cell_type": "code",
   "execution_count": 166,
   "metadata": {
    "ExecuteTime": {
     "end_time": "2021-01-11T18:25:36.827345Z",
     "start_time": "2021-01-11T18:25:35.417258Z"
    },
    "hidden": true
   },
   "outputs": [],
   "source": [
    "# loading test dataset\n",
    "df10 = pd.read_csv(\"../database/fraud_0.1origbase.csv\").iloc[5, :-2]"
   ]
  },
  {
   "cell_type": "code",
   "execution_count": 167,
   "metadata": {
    "ExecuteTime": {
     "end_time": "2021-01-11T18:25:36.840932Z",
     "start_time": "2021-01-11T18:25:36.829367Z"
    },
    "hidden": true
   },
   "outputs": [
    {
     "data": {
      "text/plain": [
       "step                     208\n",
       "type                 CASH_IN\n",
       "amount                256441\n",
       "nameOrig         C1001269496\n",
       "oldbalanceOrg            554\n",
       "Name: 5, dtype: object"
      ]
     },
     "execution_count": 167,
     "metadata": {},
     "output_type": "execute_result"
    }
   ],
   "source": [
    "df10.head()"
   ]
  },
  {
   "cell_type": "code",
   "execution_count": 168,
   "metadata": {
    "ExecuteTime": {
     "end_time": "2021-01-11T18:25:41.840172Z",
     "start_time": "2021-01-11T18:25:41.837309Z"
    },
    "hidden": true
   },
   "outputs": [],
   "source": [
    "# convert Dataframe to json\n",
    "data = df10.to_json()"
   ]
  },
  {
   "cell_type": "code",
   "execution_count": 169,
   "metadata": {
    "ExecuteTime": {
     "end_time": "2021-01-11T18:25:42.316636Z",
     "start_time": "2021-01-11T18:25:42.306247Z"
    },
    "hidden": true
   },
   "outputs": [
    {
     "data": {
      "text/plain": [
       "'{\"step\":208,\"type\":\"CASH_IN\",\"amount\":256440.86,\"nameOrig\":\"C1001269496\",\"oldbalanceOrg\":554.0,\"newbalanceOrig\":256994.86,\"nameDest\":\"C1503528288\",\"oldbalanceDest\":0.0,\"newbalanceDest\":0.0}'"
      ]
     },
     "execution_count": 169,
     "metadata": {},
     "output_type": "execute_result"
    }
   ],
   "source": [
    "data"
   ]
  },
  {
   "cell_type": "code",
   "execution_count": 170,
   "metadata": {
    "ExecuteTime": {
     "end_time": "2021-01-11T18:25:44.978148Z",
     "start_time": "2021-01-11T18:25:44.974930Z"
    },
    "hidden": true
   },
   "outputs": [],
   "source": [
    "import requests"
   ]
  },
  {
   "cell_type": "code",
   "execution_count": 224,
   "metadata": {
    "ExecuteTime": {
     "end_time": "2021-01-11T18:37:23.766410Z",
     "start_time": "2021-01-11T18:37:23.618922Z"
    },
    "hidden": true
   },
   "outputs": [],
   "source": [
    "url = 'http://0.0.0.0:5000/fraud/predict'\n",
    "header = {'Content-type': 'application/json'}\n",
    "\n",
    "r = requests.post(url=url, data=data, headers=header)"
   ]
  },
  {
   "cell_type": "code",
   "execution_count": 225,
   "metadata": {
    "ExecuteTime": {
     "end_time": "2021-01-11T18:37:24.356996Z",
     "start_time": "2021-01-11T18:37:24.339403Z"
    },
    "hidden": true
   },
   "outputs": [
    {
     "data": {
      "text/plain": [
       "200"
      ]
     },
     "execution_count": 225,
     "metadata": {},
     "output_type": "execute_result"
    }
   ],
   "source": [
    "r.status_code"
   ]
  },
  {
   "cell_type": "code",
   "execution_count": 226,
   "metadata": {
    "ExecuteTime": {
     "end_time": "2021-01-11T18:37:40.889263Z",
     "start_time": "2021-01-11T18:37:40.876879Z"
    },
    "hidden": true
   },
   "outputs": [
    {
     "data": {
      "text/plain": [
       "[{'step': 208,\n",
       "  'type': 'CASH_IN',\n",
       "  'amount': 256440.86,\n",
       "  'name_orig': 'C',\n",
       "  'oldbalance_org': 554.0,\n",
       "  'newbalance_orig': 256994.86,\n",
       "  'name_dest': 'C',\n",
       "  'oldbalance_dest': 0.0,\n",
       "  'newbalance_dest': 0.0,\n",
       "  'step_days': 8.6666666667,\n",
       "  'step_weeks': 1.2380952381,\n",
       "  'diff_new_old_balance': 256440.86,\n",
       "  'diff_new_old_destiny': 0.0,\n",
       "  'prediction': 0}]"
      ]
     },
     "execution_count": 226,
     "metadata": {},
     "output_type": "execute_result"
    }
   ],
   "source": [
    "r.json()"
   ]
  },
  {
   "cell_type": "code",
   "execution_count": 227,
   "metadata": {
    "ExecuteTime": {
     "end_time": "2021-01-11T18:38:07.428531Z",
     "start_time": "2021-01-11T18:38:07.417682Z"
    },
    "hidden": true
   },
   "outputs": [],
   "source": [
    "d = pd.DataFrame(r.json(), columns=r.json()[0].keys())"
   ]
  },
  {
   "cell_type": "code",
   "execution_count": 228,
   "metadata": {
    "ExecuteTime": {
     "end_time": "2021-01-11T18:38:08.754022Z",
     "start_time": "2021-01-11T18:38:08.730062Z"
    },
    "hidden": true
   },
   "outputs": [
    {
     "data": {
      "text/html": [
       "<div>\n",
       "<style scoped>\n",
       "    .dataframe tbody tr th:only-of-type {\n",
       "        vertical-align: middle;\n",
       "    }\n",
       "\n",
       "    .dataframe tbody tr th {\n",
       "        vertical-align: top;\n",
       "    }\n",
       "\n",
       "    .dataframe thead th {\n",
       "        text-align: right;\n",
       "    }\n",
       "</style>\n",
       "<table border=\"1\" class=\"dataframe\">\n",
       "  <thead>\n",
       "    <tr style=\"text-align: right;\">\n",
       "      <th></th>\n",
       "      <th>step</th>\n",
       "      <th>type</th>\n",
       "      <th>amount</th>\n",
       "      <th>name_orig</th>\n",
       "      <th>oldbalance_org</th>\n",
       "      <th>newbalance_orig</th>\n",
       "      <th>name_dest</th>\n",
       "      <th>oldbalance_dest</th>\n",
       "      <th>newbalance_dest</th>\n",
       "      <th>step_days</th>\n",
       "      <th>step_weeks</th>\n",
       "      <th>diff_new_old_balance</th>\n",
       "      <th>diff_new_old_destiny</th>\n",
       "      <th>prediction</th>\n",
       "    </tr>\n",
       "  </thead>\n",
       "  <tbody>\n",
       "    <tr>\n",
       "      <th>0</th>\n",
       "      <td>208</td>\n",
       "      <td>CASH_IN</td>\n",
       "      <td>256440.86</td>\n",
       "      <td>C</td>\n",
       "      <td>554.0</td>\n",
       "      <td>256994.86</td>\n",
       "      <td>C</td>\n",
       "      <td>0.0</td>\n",
       "      <td>0.0</td>\n",
       "      <td>8.666667</td>\n",
       "      <td>1.238095</td>\n",
       "      <td>256440.86</td>\n",
       "      <td>0.0</td>\n",
       "      <td>0</td>\n",
       "    </tr>\n",
       "  </tbody>\n",
       "</table>\n",
       "</div>"
      ],
      "text/plain": [
       "   step     type     amount name_orig  oldbalance_org  newbalance_orig name_dest  oldbalance_dest  newbalance_dest  step_days  step_weeks  diff_new_old_balance  diff_new_old_destiny  prediction\n",
       "0   208  CASH_IN  256440.86         C           554.0        256994.86         C              0.0              0.0   8.666667    1.238095             256440.86                   0.0           0"
      ]
     },
     "execution_count": 228,
     "metadata": {},
     "output_type": "execute_result"
    }
   ],
   "source": [
    "d"
   ]
  },
  {
   "cell_type": "code",
   "execution_count": null,
   "metadata": {
    "hidden": true
   },
   "outputs": [],
   "source": []
  }
 ],
 "metadata": {
  "kernelspec": {
   "display_name": "Python 3",
   "language": "python",
   "name": "python3"
  },
  "language_info": {
   "codemirror_mode": {
    "name": "ipython",
    "version": 3
   },
   "file_extension": ".py",
   "mimetype": "text/x-python",
   "name": "python",
   "nbconvert_exporter": "python",
   "pygments_lexer": "ipython3",
   "version": "3.8.5"
  }
 },
 "nbformat": 4,
 "nbformat_minor": 4
}
